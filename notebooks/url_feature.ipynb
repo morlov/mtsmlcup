{
 "cells": [
  {
   "cell_type": "code",
   "execution_count": 1,
   "id": "7af790b9-f4cc-40e0-a28a-7f11fc403b83",
   "metadata": {
    "execution": {
     "iopub.execute_input": "2023-03-21T13:35:02.348195Z",
     "iopub.status.busy": "2023-03-21T13:35:02.347779Z",
     "iopub.status.idle": "2023-03-21T13:35:06.120730Z",
     "shell.execute_reply": "2023-03-21T13:35:06.119551Z"
    }
   },
   "outputs": [],
   "source": [
    "import re\n",
    "from typing import Tuple, List, Dict\n",
    "\n",
    "import pandas as pd\n",
    "import pyarrow as pa\n",
    "import pyarrow.parquet as pq\n",
    "import dask.dataframe as dd\n",
    "\n",
    "from tld import get_tld\n"
   ]
  },
  {
   "cell_type": "markdown",
   "id": "761dcb24-aacd-44ce-9f4c-7f5b9f4dee6c",
   "metadata": {},
   "source": [
    "# Prepare data"
   ]
  },
  {
   "cell_type": "code",
   "execution_count": 2,
   "id": "3c3f885e-c636-4b72-bcb8-26004390cf0d",
   "metadata": {
    "execution": {
     "iopub.execute_input": "2023-03-21T13:35:06.125641Z",
     "iopub.status.busy": "2023-03-21T13:35:06.124983Z",
     "iopub.status.idle": "2023-03-21T13:35:06.205453Z",
     "shell.execute_reply": "2023-03-21T13:35:06.204767Z"
    }
   },
   "outputs": [],
   "source": [
    "df = dd.read_parquet('data/competition_data_final_pqt', columns=['user_id', 'url_host', 'request_cnt', 'part_of_day', 'date'])"
   ]
  },
  {
   "cell_type": "code",
   "execution_count": 3,
   "id": "054de955",
   "metadata": {
    "execution": {
     "iopub.execute_input": "2023-03-21T13:35:06.210112Z",
     "iopub.status.busy": "2023-03-21T13:35:06.209647Z",
     "iopub.status.idle": "2023-03-21T13:35:06.227958Z",
     "shell.execute_reply": "2023-03-21T13:35:06.227181Z"
    }
   },
   "outputs": [
    {
     "name": "stderr",
     "output_type": "stream",
     "text": [
      "/home/jovyan/.local/share/virtualenvs/ptls-experiments-Xgdpvmv-/lib/python3.8/site-packages/dask/dataframe/core.py:4330: UserWarning: \n",
      "You did not provide metadata, so Dask is running your function on a small dataset to guess output types. It is possible that Dask will guess incorrectly.\n",
      "To provide an explicit output types or to silence this message, please provide the `meta=` keyword, as described in the map or apply function that you are using.\n",
      "  Before: .apply(func)\n",
      "  After:  .apply(func, meta=('url_host', 'int64'))\n",
      "\n",
      "  warnings.warn(meta_warning(meta))\n"
     ]
    }
   ],
   "source": [
    "def is_url_ip_address(url: str) -> bool:\n",
    "    match = re.search(\n",
    "        '(([01]?\\\\d\\\\d?|2[0-4]\\\\d|25[0-5])\\\\.([01]?\\\\d\\\\d?|2[0-4]\\\\d|25[0-5])\\\\.([01]?\\\\d\\\\d?|2[0-4]\\\\d|25[0-5])\\\\.'\n",
    "        '([01]?\\\\d\\\\d?|2[0-4]\\\\d|25[0-5])\\\\/)|'  # IPv4\n",
    "        '(([01]?\\\\d\\\\d?|2[0-4]\\\\d|25[0-5])\\\\.([01]?\\\\d\\\\d?|2[0-4]\\\\d|25[0-5])\\\\.([01]?\\\\d\\\\d?|2[0-4]\\\\d|25[0-5])\\\\.'\n",
    "        '([01]?\\\\d\\\\d?|2[0-4]\\\\d|25[0-5])\\\\/)|'  # IPv4 with port\n",
    "        '((0x[0-9a-fA-F]{1,2})\\\\.(0x[0-9a-fA-F]{1,2})\\\\.(0x[0-9a-fA-F]{1,2})\\\\.(0x[0-9a-fA-F]{1,2})\\\\/)' # IPv4 in hexadecimal\n",
    "        '(?:[a-fA-F0-9]{1,4}:){7}[a-fA-F0-9]{1,4}|'\n",
    "        '([0-9]+(?:\\.[0-9]+){3}:[0-9]+)|'\n",
    "        '((?:(?:\\d|[01]?\\d\\d|2[0-4]\\d|25[0-5])\\.){3}(?:25[0-5]|2[0-4]\\d|[01]?\\d\\d|\\d)(?:\\/\\d{1,2})?)', url)  # Ipv6\n",
    "    return 1 if match else 0\n",
    "    \n",
    "df['is_ip'] = df['url_host'].apply(lambda url: is_url_ip_address(url))"
   ]
  },
  {
   "cell_type": "code",
   "execution_count": 4,
   "id": "23261e4d",
   "metadata": {
    "execution": {
     "iopub.execute_input": "2023-03-21T13:35:06.232447Z",
     "iopub.status.busy": "2023-03-21T13:35:06.232066Z",
     "iopub.status.idle": "2023-03-21T13:35:06.237607Z",
     "shell.execute_reply": "2023-03-21T13:35:06.236979Z"
    }
   },
   "outputs": [],
   "source": [
    "def process_tld(url_host: str, fix_protos: bool = True) -> Tuple[str, str, str, str]:\n",
    "    \"\"\"\n",
    "    Takes a URL string and uses the tld library to extract subdomain, domain, top\n",
    "    level domain and full length domain\n",
    "    \"\"\"\n",
    "    try:\n",
    "        res = get_tld(url_host, as_object = True, fail_silently=False, fix_protocol=fix_protos)\n",
    "        subdomain = res.subdomain\n",
    "        domain = res.domain\n",
    "        tld = res.tld\n",
    "        fld = res.fld\n",
    "        return [subdomain, domain, tld, fld]\n",
    "    except:\n",
    "        return [None, None, None, None]"
   ]
  },
  {
   "cell_type": "code",
   "execution_count": 5,
   "id": "1735feda",
   "metadata": {
    "execution": {
     "iopub.execute_input": "2023-03-21T13:35:06.241462Z",
     "iopub.status.busy": "2023-03-21T13:35:06.241101Z",
     "iopub.status.idle": "2023-03-21T13:35:06.245644Z",
     "shell.execute_reply": "2023-03-21T13:35:06.245041Z"
    }
   },
   "outputs": [],
   "source": [
    "def process_tlds(url_hosts: List[str], fix_protocol: bool = True) -> Dict[str, List[Tuple[str, str, str, str]]]:\n",
    "    return {\n",
    "        url_host: process_tld(url_host, fix_protocol)\n",
    "        for url_host in url_hosts\n",
    "    }"
   ]
  },
  {
   "cell_type": "code",
   "execution_count": 6,
   "id": "4434c03e",
   "metadata": {
    "execution": {
     "iopub.execute_input": "2023-03-21T13:35:06.248678Z",
     "iopub.status.busy": "2023-03-21T13:35:06.248332Z",
     "iopub.status.idle": "2023-03-21T13:41:49.193732Z",
     "shell.execute_reply": "2023-03-21T13:41:49.191798Z"
    }
   },
   "outputs": [],
   "source": [
    "processed_hosts = process_tlds(df['url_host'].unique().compute(scheduler='multiprocessing'))"
   ]
  },
  {
   "cell_type": "code",
   "execution_count": null,
   "id": "3700fc89",
   "metadata": {
    "execution": {
     "iopub.execute_input": "2023-03-21T13:41:49.199704Z",
     "iopub.status.busy": "2023-03-21T13:41:49.199335Z",
     "iopub.status.idle": "2023-03-21T13:41:50.361515Z",
     "shell.execute_reply": "2023-03-21T13:41:50.360698Z"
    }
   },
   "outputs": [],
   "source": [
    "df['subdomain'] = df['url_host'].apply(lambda url: processed_hosts[url][0], meta=pd.Series(['esf']))\n",
    "df['domain'] = df['url_host'].apply(lambda url: processed_hosts[url][1], meta=pd.Series(['esf']))\n",
    "df['tld'] = df['url_host'].apply(lambda url: processed_hosts[url][2], meta=pd.Series(['esf']))"
   ]
  },
  {
   "cell_type": "code",
   "execution_count": null,
   "id": "aea9dae9",
   "metadata": {
    "execution": {
     "iopub.execute_input": "2023-03-21T13:41:50.366798Z",
     "iopub.status.busy": "2023-03-21T13:41:50.366446Z",
     "iopub.status.idle": "2023-03-21T13:41:50.372560Z",
     "shell.execute_reply": "2023-03-21T13:41:50.371305Z"
    }
   },
   "outputs": [],
   "source": [
    "def contains_shortening_service(url: str) -> int:\n",
    "    \"\"\"\n",
    "    Checks to see whether URL contains a shortening service\n",
    "    \"\"\"\n",
    "    match = re.search('^(' + 'bit\\.ly|goo\\.gl|shorte\\.st|go2l\\.ink|x\\.co|ow\\.ly|t\\.co|tinyurl|tr\\.im|is\\.gd|cli\\.gs|'\n",
    "                      'yfrog\\.com|migre\\.me|ff\\.im|tiny\\.cc|url4\\.eu|twit\\.ac|su\\.pr|twurl\\.nl|snipurl\\.com|'\n",
    "                      'short\\.to|BudURL\\.com|ping\\.fm|post\\.ly|Just\\.as|bkite\\.com|snipr\\.com|fic\\.kr|loopt\\.us|'\n",
    "                      'doiop\\.com|short\\.ie|kl\\.am|wp\\.me|rubyurl\\.com|om\\.ly|to\\.ly|bit\\.do|t\\.co|lnkd\\.in|'\n",
    "                      'db\\.tt|qr\\.ae|adf\\.ly|goo\\.gl|bitly\\.com|cur\\.lv|tinyurl\\.com|ow\\.ly|bit\\.ly|ity\\.im|'\n",
    "                      'q\\.gs|is\\.gd|po\\.st|bc\\.vc|twitthis\\.com|u\\.to|j\\.mp|buzurl\\.com|cutt\\.us|u\\.bb|yourls\\.org|'\n",
    "                      'x\\.co|prettylinkpro\\.com|scrnch\\.me|filoops\\.info|vzturl\\.com|qr\\.net|1url\\.com|tweez\\.me|v\\.gd|'\n",
    "                      'tr\\.im|link\\.zip\\.net' + ')',\n",
    "                      url)\n",
    "    return 1 if match else 0"
   ]
  },
  {
   "cell_type": "code",
   "execution_count": null,
   "id": "f9b4dce8",
   "metadata": {
    "execution": {
     "iopub.execute_input": "2023-03-21T13:41:50.377973Z",
     "iopub.status.busy": "2023-03-21T13:41:50.377580Z",
     "iopub.status.idle": "2023-03-21T13:41:50.391036Z",
     "shell.execute_reply": "2023-03-21T13:41:50.390289Z"
    }
   },
   "outputs": [
    {
     "name": "stderr",
     "output_type": "stream",
     "text": [
      "/home/jovyan/.local/share/virtualenvs/ptls-experiments-Xgdpvmv-/lib/python3.8/site-packages/dask/dataframe/core.py:4330: UserWarning: \n",
      "You did not provide metadata, so Dask is running your function on a small dataset to guess output types. It is possible that Dask will guess incorrectly.\n",
      "To provide an explicit output types or to silence this message, please provide the `meta=` keyword, as described in the map or apply function that you are using.\n",
      "  Before: .apply(func)\n",
      "  After:  .apply(func, meta=('url_host', 'int64'))\n",
      "\n",
      "  warnings.warn(meta_warning(meta))\n"
     ]
    }
   ],
   "source": [
    "df['contains_shortener'] = df['url_host'].apply(lambda url: contains_shortening_service(url))"
   ]
  },
  {
   "cell_type": "code",
   "execution_count": null,
   "id": "958bc4c2-4c22-4d78-8ec2-5c9c6ed26c48",
   "metadata": {
    "execution": {
     "iopub.execute_input": "2023-03-21T13:41:50.394460Z",
     "iopub.status.busy": "2023-03-21T13:41:50.394069Z",
     "iopub.status.idle": "2023-03-21T13:53:22.990333Z",
     "shell.execute_reply": "2023-03-21T13:53:22.988765Z"
    }
   },
   "outputs": [],
   "source": [
    "df = df.compute(scheduler='multiprocessing')"
   ]
  },
  {
   "cell_type": "code",
   "execution_count": null,
   "id": "aa818d1a-6670-4004-a227-cac8084d2b5d",
   "metadata": {
    "execution": {
     "iopub.execute_input": "2023-03-21T13:53:22.995359Z",
     "iopub.status.busy": "2023-03-21T13:53:22.995092Z",
     "iopub.status.idle": "2023-03-21T13:53:40.027423Z",
     "shell.execute_reply": "2023-03-21T13:53:40.026729Z"
    }
   },
   "outputs": [
    {
     "data": {
      "text/plain": [
       "day        107328399\n",
       "evening     96239286\n",
       "morning     85236015\n",
       "night       34095735\n",
       "Name: part_of_day, dtype: int64"
      ]
     },
     "execution_count": 11,
     "metadata": {},
     "output_type": "execute_result"
    }
   ],
   "source": [
    "df.part_of_day.value_counts()"
   ]
  },
  {
   "cell_type": "markdown",
   "id": "2bfb475e-bbc3-4c2a-956c-9f0a975aa803",
   "metadata": {},
   "source": [
    "### Impute price, create date+day_part event_time"
   ]
  },
  {
   "cell_type": "code",
   "execution_count": null,
   "id": "4ffbeffa-ed25-402f-a68e-f5837067ab24",
   "metadata": {
    "execution": {
     "iopub.execute_input": "2023-03-21T13:53:40.033729Z",
     "iopub.status.busy": "2023-03-21T13:53:40.033380Z",
     "iopub.status.idle": "2023-03-21T13:53:40.036995Z",
     "shell.execute_reply": "2023-03-21T13:53:40.036218Z"
    }
   },
   "outputs": [],
   "source": [
    "# df.price = df.price.fillna(0)\n",
    "# df.price = pd.qcut(df.price, 10, labels=False)"
   ]
  },
  {
   "cell_type": "code",
   "execution_count": null,
   "id": "ab0b01bc-5eaf-4089-9c60-b1012d892ab1",
   "metadata": {
    "execution": {
     "iopub.execute_input": "2023-03-21T13:53:40.041054Z",
     "iopub.status.busy": "2023-03-21T13:53:40.040747Z",
     "iopub.status.idle": "2023-03-21T13:54:08.760575Z",
     "shell.execute_reply": "2023-03-21T13:54:08.758779Z"
    }
   },
   "outputs": [],
   "source": [
    "df['event_time'] = pd.to_datetime(df[\"date\"]).values.astype('datetime64[h]').view('int64')"
   ]
  },
  {
   "cell_type": "code",
   "execution_count": null,
   "id": "5a79b418-162d-4c76-83a7-e143eba52e46",
   "metadata": {
    "execution": {
     "iopub.execute_input": "2023-03-21T13:54:08.767088Z",
     "iopub.status.busy": "2023-03-21T13:54:08.766242Z",
     "iopub.status.idle": "2023-03-21T13:54:27.589060Z",
     "shell.execute_reply": "2023-03-21T13:54:27.587851Z"
    }
   },
   "outputs": [],
   "source": [
    "df['event_time'] += df['part_of_day'].map({'morning': 0, 'day': 6, 'evening': 12, 'night': 18})"
   ]
  },
  {
   "cell_type": "code",
   "execution_count": null,
   "id": "e64b3eb1-dd91-49ec-8c20-a19950c6be83",
   "metadata": {
    "execution": {
     "iopub.execute_input": "2023-03-21T13:54:27.593752Z",
     "iopub.status.busy": "2023-03-21T13:54:27.593521Z",
     "iopub.status.idle": "2023-03-21T13:54:27.598514Z",
     "shell.execute_reply": "2023-03-21T13:54:27.597725Z"
    }
   },
   "outputs": [],
   "source": [
    "del df['date']"
   ]
  },
  {
   "cell_type": "markdown",
   "id": "ad1578c9-a524-4c22-ad51-ae48fd28a182",
   "metadata": {},
   "source": [
    "## Handcrafted aggreagates"
   ]
  },
  {
   "cell_type": "markdown",
   "id": "f8e4b371-15ee-4a28-bc5c-f86a0d8cf9da",
   "metadata": {},
   "source": [
    "# Create transactional data"
   ]
  },
  {
   "cell_type": "code",
   "execution_count": null,
   "id": "2c390b2d-ec9d-45e1-9e1c-96e0ddbb84c0",
   "metadata": {
    "execution": {
     "iopub.execute_input": "2023-03-21T13:54:27.602199Z",
     "iopub.status.busy": "2023-03-21T13:54:27.601885Z",
     "iopub.status.idle": "2023-03-21T13:54:31.868330Z",
     "shell.execute_reply": "2023-03-21T13:54:31.866764Z"
    }
   },
   "outputs": [],
   "source": [
    "from ptls.preprocessing import PandasDataPreprocessor\n",
    "\n",
    "preprocessor = PandasDataPreprocessor(\n",
    "    col_id='user_id',\n",
    "    col_event_time='event_time',\n",
    "    event_time_transformation='none',\n",
    "    cols_category=['url_host', 'part_of_day', 'is_ip', 'contains_shortener', 'subdomain', 'domain', 'tld'],\n",
    "    #cols_category=['price', 'region_name', 'city_name', 'cpe_manufacturer_name', 'cpe_model_name', 'url_host', 'cpe_type_cd', 'cpe_model_os_type', 'part_of_day'],\n",
    "    cols_numerical=['request_cnt'],\n",
    "    return_records=False,\n",
    ")"
   ]
  },
  {
   "cell_type": "code",
   "execution_count": null,
   "id": "8abf9b6a-cf57-4a68-b57c-9fb47bdbf543",
   "metadata": {
    "execution": {
     "iopub.execute_input": "2023-03-21T13:54:31.874395Z",
     "iopub.status.busy": "2023-03-21T13:54:31.873984Z",
     "iopub.status.idle": "2023-03-21T14:26:02.668404Z",
     "shell.execute_reply": "2023-03-21T14:26:02.664962Z"
    }
   },
   "outputs": [],
   "source": [
    "df_trans = preprocessor.fit_transform(df)"
   ]
  },
  {
   "cell_type": "markdown",
   "id": "5d9d6b6b-7a15-4158-8977-ed5c1ec5a3da",
   "metadata": {},
   "source": [
    "### Pretrain datasets"
   ]
  },
  {
   "cell_type": "code",
   "execution_count": null,
   "id": "fbd7a8da-f0c8-4af6-be82-b891249003ba",
   "metadata": {
    "execution": {
     "iopub.execute_input": "2023-03-21T14:26:02.692681Z",
     "iopub.status.busy": "2023-03-21T14:26:02.692381Z",
     "iopub.status.idle": "2023-03-21T14:26:06.282292Z",
     "shell.execute_reply": "2023-03-21T14:26:06.281565Z"
    }
   },
   "outputs": [],
   "source": [
    "from sklearn.model_selection import train_test_split\n",
    "\n",
    "df_train_trans, df_valid_trans = train_test_split(df_trans, test_size = 0.1, random_state = 42)\n",
    "df_train_trans = df_train_trans.to_dict(orient='records')\n",
    "df_valid_trans = df_valid_trans.to_dict(orient='records')"
   ]
  },
  {
   "cell_type": "code",
   "execution_count": null,
   "id": "39b04931-64ba-4817-9cba-a124c5382ff7",
   "metadata": {
    "execution": {
     "iopub.execute_input": "2023-03-21T14:26:06.285696Z",
     "iopub.status.busy": "2023-03-21T14:26:06.285409Z",
     "iopub.status.idle": "2023-03-21T14:26:06.290537Z",
     "shell.execute_reply": "2023-03-21T14:26:06.289980Z"
    }
   },
   "outputs": [
    {
     "data": {
      "text/plain": [
       "(373785, 41532)"
      ]
     },
     "execution_count": 19,
     "metadata": {},
     "output_type": "execute_result"
    }
   ],
   "source": [
    "len(df_train_trans), len(df_valid_trans)"
   ]
  },
  {
   "cell_type": "markdown",
   "id": "7f223e8d-dfde-4c4b-9c71-6cf3c744c0a9",
   "metadata": {},
   "source": [
    "## Train COLES"
   ]
  },
  {
   "cell_type": "markdown",
   "id": "82cc0f45-6d4c-4026-ab33-bb58d1c5a5c7",
   "metadata": {},
   "source": [
    "### Model definition"
   ]
  },
  {
   "cell_type": "code",
   "execution_count": null,
   "id": "216af0ff",
   "metadata": {
    "execution": {
     "iopub.execute_input": "2023-03-21T14:26:06.293656Z",
     "iopub.status.busy": "2023-03-21T14:26:06.293399Z",
     "iopub.status.idle": "2023-03-21T14:28:51.975386Z",
     "shell.execute_reply": "2023-03-21T14:28:51.974017Z"
    }
   },
   "outputs": [
    {
     "data": {
      "text/plain": [
       "user_id                    0\n",
       "url_host                   0\n",
       "request_cnt                0\n",
       "part_of_day                0\n",
       "is_ip                      0\n",
       "subdomain             341841\n",
       "domain                341841\n",
       "tld                   341841\n",
       "contains_shortener         0\n",
       "event_time                 0\n",
       "dtype: int64"
      ]
     },
     "execution_count": 20,
     "metadata": {},
     "output_type": "execute_result"
    }
   ],
   "source": [
    "df.isna().sum()"
   ]
  },
  {
   "cell_type": "code",
   "execution_count": null,
   "id": "6ddb648b",
   "metadata": {
    "execution": {
     "iopub.execute_input": "2023-03-21T14:28:51.980993Z",
     "iopub.status.busy": "2023-03-21T14:28:51.980729Z",
     "iopub.status.idle": "2023-03-21T14:31:30.179693Z",
     "shell.execute_reply": "2023-03-21T14:31:30.178474Z"
    }
   },
   "outputs": [],
   "source": [
    "df[['subdomain', 'domain', 'tld']] = df[['subdomain', 'domain', 'tld']].fillna(value='#')"
   ]
  },
  {
   "cell_type": "code",
   "execution_count": null,
   "id": "a4376f67",
   "metadata": {
    "execution": {
     "iopub.execute_input": "2023-03-21T14:31:30.185928Z",
     "iopub.status.busy": "2023-03-21T14:31:30.185474Z",
     "iopub.status.idle": "2023-03-21T14:31:34.142995Z",
     "shell.execute_reply": "2023-03-21T14:31:34.142240Z"
    }
   },
   "outputs": [],
   "source": [
    "import torch\n",
    "import pytorch_lightning as pl\n",
    "from functools import partial\n",
    "from ptls.nn import TrxEncoder, RnnSeqEncoder\n",
    "from ptls.frames.coles import CoLESModule\n",
    "\n",
    "trx_encoder_params = dict(\n",
    "    embeddings_noise=0.003,\n",
    "    numeric_values={'request_cnt': 'identity'\n",
    "    },\n",
    "    embeddings={\n",
    "        #'price': {'in': 10, 'out': 2},\n",
    "        #'region_name': {'in': 81, 'out': 4},\n",
    "        #'city_name': {'in': 985, 'out': 16},\n",
    "        #'cpe_manufacturer_name': {'in': 37, 'out': 4},\n",
    "        #'cpe_model_name': {'in': 599, 'out': 16},\n",
    "        #'cpe_type_cd': {'in': 4, 'out': 2}, \n",
    "        #'cpe_model_os_type': {'in': 3, 'out': 2}, \n",
    "        #'part_of_day': {'in': 4, 'out': 1},\n",
    "        'url_host': {'in': 131994, 'out': 512},\n",
    "        'subdomain': {'in': 46722, 'out': 128},\n",
    "        'domain': {'in': 127241, 'out': 512},\n",
    "        'tld': {'in': 515, 'out': 16},\n",
    "        'is_ip': {'in': 2, 'out': 1},\n",
    "        'contains_shortener': {'in': 2, 'out': 1},\n",
    "    }\n",
    ")\n",
    "\n",
    "\n",
    "seq_encoder = RnnSeqEncoder(\n",
    "    trx_encoder=TrxEncoder(**trx_encoder_params),\n",
    "    hidden_size=512,\n",
    "    type='gru',\n",
    ")\n",
    "\n",
    "model = CoLESModule(\n",
    "    seq_encoder=seq_encoder,\n",
    "    optimizer_partial=partial(torch.optim.AdamW, lr=0.001),\n",
    "    lr_scheduler_partial=partial(torch.optim.lr_scheduler.CyclicLR, base_lr=0.0001, max_lr=0.001, cycle_momentum=False),\n",
    ")"
   ]
  },
  {
   "cell_type": "markdown",
   "id": "b5c351fd-524a-4c32-a394-a679734d92dc",
   "metadata": {},
   "source": [
    "### Dataloader"
   ]
  },
  {
   "cell_type": "code",
   "execution_count": null,
   "id": "3f1ea07f-9532-4c85-b961-377ad1ee16fe",
   "metadata": {
    "execution": {
     "iopub.execute_input": "2023-03-21T14:31:34.147361Z",
     "iopub.status.busy": "2023-03-21T14:31:34.146669Z",
     "iopub.status.idle": "2023-03-21T14:31:34.222125Z",
     "shell.execute_reply": "2023-03-21T14:31:34.221398Z"
    }
   },
   "outputs": [],
   "source": [
    "from ptls.data_load.datasets import MemoryMapDataset\n",
    "from ptls.data_load.iterable_processing.feature_filter import FeatureFilter\n",
    "from ptls.frames.coles import ColesDataset\n",
    "from ptls.frames.coles.split_strategy import SampleSlices\n",
    "from ptls.frames import PtlsDataModule\n",
    "\n",
    "\n",
    "train_ds = MemoryMapDataset(data=df_train_trans)\n",
    "valid_ds = MemoryMapDataset(data=df_valid_trans)\n",
    "\n",
    "train_data=ColesDataset(train_ds, splitter = SampleSlices(split_count=5, cnt_min=20, cnt_max=200))\n",
    "valid_data=ColesDataset(valid_ds, splitter = SampleSlices(split_count=5, cnt_min=20, cnt_max=200))\n",
    "\n",
    "dl = PtlsDataModule(\n",
    "    train_data=train_data, train_num_workers=16, train_batch_size=256, \n",
    "    valid_data=valid_data, valid_num_workers=16, valid_batch_size=256\n",
    ")"
   ]
  },
  {
   "cell_type": "markdown",
   "id": "faaf7ed2-9782-4439-8a86-32808d4fff8d",
   "metadata": {},
   "source": [
    "### Trainer"
   ]
  },
  {
   "cell_type": "code",
   "execution_count": null,
   "id": "0c2b3322-7818-44a6-adf8-a9322a315b68",
   "metadata": {
    "execution": {
     "iopub.execute_input": "2023-03-21T14:31:34.227380Z",
     "iopub.status.busy": "2023-03-21T14:31:34.227070Z",
     "iopub.status.idle": "2023-03-21T14:31:34.475072Z",
     "shell.execute_reply": "2023-03-21T14:31:34.473757Z"
    }
   },
   "outputs": [
    {
     "name": "stderr",
     "output_type": "stream",
     "text": [
      "GPU available: True, used: True\n",
      "TPU available: False, using: 0 TPU cores\n",
      "IPU available: False, using: 0 IPUs\n",
      "HPU available: False, using: 0 HPUs\n"
     ]
    }
   ],
   "source": [
    "import torch\n",
    "import pytorch_lightning as pl\n",
    "from pytorch_lightning.loggers import TensorBoardLogger\n",
    "from pytorch_lightning.callbacks import ModelCheckpoint\n",
    "\n",
    "trainer = pl.Trainer(\n",
    "    max_epochs=200,\n",
    "    gpus=[0],\n",
    "    enable_progress_bar=False,\n",
    "    logger=TensorBoardLogger('lightning_logs', name='url_host_features'),\n",
    "    callbacks=[ModelCheckpoint(\n",
    "        monitor='recall_top_k',\n",
    "        dirpath='model/',\n",
    "        filename='{epoch}-{recall_top_k:.2f}',\n",
    "        save_top_k=5,\n",
    "        mode='max',\n",
    "        save_weights_only=True,\n",
    "    )]\n",
    ")"
   ]
  },
  {
   "cell_type": "code",
   "execution_count": null,
   "id": "70e8672a-97cd-4cb9-9ad4-ad3d1e88d69f",
   "metadata": {
    "execution": {
     "iopub.execute_input": "2023-03-21T14:31:34.480625Z",
     "iopub.status.busy": "2023-03-21T14:31:34.480256Z",
     "iopub.status.idle": "2023-03-21T14:31:34.483624Z",
     "shell.execute_reply": "2023-03-21T14:31:34.482963Z"
    },
    "tags": []
   },
   "outputs": [],
   "source": [
    "#print(f'logger.version = {trainer.logger.version}')\n",
    "#trainer.fit(model, dl)\n",
    "#print(trainer.logged_metrics)"
   ]
  },
  {
   "cell_type": "code",
   "execution_count": null,
   "id": "64b7e9fd-84df-4f10-9a0e-8c08dc8ca610",
   "metadata": {
    "execution": {
     "iopub.execute_input": "2023-03-21T14:31:34.486450Z",
     "iopub.status.busy": "2023-03-21T14:31:34.486120Z",
     "iopub.status.idle": "2023-03-21T14:31:34.489502Z",
     "shell.execute_reply": "2023-03-21T14:31:34.488854Z"
    }
   },
   "outputs": [],
   "source": [
    "#torch.save(model.state_dict(), \"model/coles-emb-feature-001-cyclicLR-1e-4-1e-3.pt\")"
   ]
  },
  {
   "cell_type": "markdown",
   "id": "8ea85365-d6fa-4c81-8ab3-5f4cf98b9438",
   "metadata": {},
   "source": [
    "# Inference"
   ]
  },
  {
   "cell_type": "code",
   "execution_count": null,
   "id": "81c0849f-92b6-4a6e-9b22-656cf8344397",
   "metadata": {
    "execution": {
     "iopub.execute_input": "2023-03-21T14:31:34.492552Z",
     "iopub.status.busy": "2023-03-21T14:31:34.492237Z",
     "iopub.status.idle": "2023-03-21T14:31:36.886896Z",
     "shell.execute_reply": "2023-03-21T14:31:36.886327Z"
    }
   },
   "outputs": [
    {
     "data": {
      "text/plain": [
       "<All keys matched successfully>"
      ]
     },
     "execution_count": 27,
     "metadata": {},
     "output_type": "execute_result"
    }
   ],
   "source": [
    "#model.load_state_dict(torch.load(\"model/coles-emb-feature-001-cyclicLR-1e-4-1e-3.pt\"))\n",
    "checkpoint = torch.load('model/epoch=121-recall_top_k=0.92.ckpt')\n",
    "model.load_state_dict(checkpoint['state_dict'])"
   ]
  },
  {
   "cell_type": "code",
   "execution_count": null,
   "id": "357a9c4e-778f-4a1d-a5ce-4f7fe3b97045",
   "metadata": {
    "execution": {
     "iopub.execute_input": "2023-03-21T14:31:36.890775Z",
     "iopub.status.busy": "2023-03-21T14:31:36.890447Z",
     "iopub.status.idle": "2023-03-21T14:31:36.893296Z",
     "shell.execute_reply": "2023-03-21T14:31:36.892816Z"
    }
   },
   "outputs": [],
   "source": [
    "# %%time\n",
    "\n",
    "# import tqdm, torch\n",
    "\n",
    "# df_trans = pq.read_table('data/trans_filtered.pq').to_pandas()\n",
    "\n",
    "# cols = ['url_host', 'request_cnt', 'part_of_day', 'event_time']\n",
    "\n",
    "# for col in tqdm.tqdm(cols):\n",
    "#     df_trans[col] = df_trans[col].apply(torch.tensor)"
   ]
  },
  {
   "cell_type": "code",
   "execution_count": null,
   "id": "525553f1-6983-45c3-b6cd-9d9a50ab6c04",
   "metadata": {
    "execution": {
     "iopub.execute_input": "2023-03-21T14:31:36.897013Z",
     "iopub.status.busy": "2023-03-21T14:31:36.896713Z",
     "iopub.status.idle": "2023-03-21T15:13:16.626191Z",
     "shell.execute_reply": "2023-03-21T15:13:16.625341Z"
    }
   },
   "outputs": [
    {
     "name": "stderr",
     "output_type": "stream",
     "text": [
      "6490it [12:06,  8.93it/s]\n",
      "6490it [02:05, 51.81it/s]\n"
     ]
    },
    {
     "name": "stdout",
     "output_type": "stream",
     "text": [
      "CPU times: user 1h 59min 30s, sys: 3min 28s, total: 2h 2min 58s\n",
      "Wall time: 41min 39s\n"
     ]
    }
   ],
   "source": [
    "%%time\n",
    "import tqdm\n",
    "from ptls.data_load.datasets import inference_data_loader\n",
    "import numpy as np\n",
    "\n",
    "def pooling_inference(model, dl, device='cuda:0'):\n",
    "    \n",
    "    model.to(device)\n",
    "    X = []\n",
    "    for batch in tqdm.tqdm(dl):\n",
    "        with torch.no_grad():\n",
    "            x = model.seq_encoder.trx_encoder(batch.to(device)).payload\n",
    "            out_max = torch.max(x, dim=1)[0]\n",
    "            out_min = torch.min(x, dim=1)[0]\n",
    "            out_mean = torch.mean(x, dim=1)\n",
    "            out_std = torch.std(x, dim=1)\n",
    "            features = torch.cat([out_max, out_min, out_mean, out_std], dim=1)      \n",
    "            X += [features]\n",
    "    return X\n",
    "\n",
    "def embed_inference(model, dl, device='cuda:0'):\n",
    "    \n",
    "    model.to(device)\n",
    "    X = []\n",
    "    for batch in tqdm.tqdm(dl):\n",
    "        with torch.no_grad():\n",
    "            features = model.seq_encoder(batch.to(device))\n",
    "            X += [features]\n",
    "    return X\n",
    "\n",
    "dl = inference_data_loader(df_trans.to_dict(orient='records'), num_workers=0, batch_size=64)\n",
    "X_coles = torch.vstack(embed_inference(model, dl, )).cpu().numpy()\n",
    "X_pool = torch.vstack(pooling_inference(model, dl, )).cpu().numpy()\n",
    "X_embeds = np.concatenate([X_coles, X_pool], axis=1)\n",
    "\n",
    "\n",
    "df_embeds = pd.DataFrame(X_embeds, columns=[f\"embed_{e}\" for e in range(X_embeds.shape[1])])\n",
    "df_embeds['user_id'] = df_trans['user_id']\n",
    "df_embeds.to_csv('data/coles_512_feature.csv', index=False)"
   ]
  },
  {
   "cell_type": "markdown",
   "id": "b34f2f38-af86-417a-904f-4c235e6fa30b",
   "metadata": {},
   "source": [
    "## Downstream"
   ]
  },
  {
   "cell_type": "markdown",
   "id": "406befe5-d0ab-4a53-bea1-5fe8b56d3dfc",
   "metadata": {},
   "source": [
    "## Targets"
   ]
  },
  {
   "cell_type": "code",
   "execution_count": 30,
   "id": "249e125e-b4f2-458a-8a83-5a897b667e5f",
   "metadata": {
    "execution": {
     "iopub.execute_input": "2023-03-21T15:13:16.633516Z",
     "iopub.status.busy": "2023-03-21T15:13:16.633021Z",
     "iopub.status.idle": "2023-03-21T15:13:16.853735Z",
     "shell.execute_reply": "2023-03-21T15:13:16.853054Z"
    }
   },
   "outputs": [
    {
     "name": "stdout",
     "output_type": "stream",
     "text": [
      "CPU times: user 188 ms, sys: 28 ms, total: 216 ms\n",
      "Wall time: 214 ms\n"
     ]
    }
   ],
   "source": [
    "%%time\n",
    "\n",
    "import bisect\n",
    "import numpy as np\n",
    "\n",
    "df_public = pq.read_table('data/public_train.pqt').to_pandas().sort_values(by='user_id')\n",
    "\n",
    "def age_bucket(x):\n",
    "    return bisect.bisect_left([18,25,35,45,55,65], x)\n",
    "\n",
    "y_age = df_public['age']\n",
    "y_age = np.array(list(map(age_bucket, y_age)))\n",
    "y_gender = np.array(df_public['is_male'])"
   ]
  },
  {
   "cell_type": "markdown",
   "id": "0c4b4ffa-8d7c-4a10-8263-a1ff7194ba7d",
   "metadata": {},
   "source": [
    "## Add features"
   ]
  },
  {
   "cell_type": "code",
   "execution_count": 31,
   "id": "61125509-7636-441d-902f-654a36f2c7ea",
   "metadata": {
    "execution": {
     "iopub.execute_input": "2023-03-21T15:13:16.858753Z",
     "iopub.status.busy": "2023-03-21T15:13:16.858395Z",
     "iopub.status.idle": "2023-03-21T15:13:36.464386Z",
     "shell.execute_reply": "2023-03-21T15:13:36.463659Z"
    }
   },
   "outputs": [],
   "source": [
    "#X_embeddings=df_embeds\n",
    "X_embeddings = pd.read_csv('data/coles_512_feature.csv')\n",
    "#X_factors = pd.read_csv('./data/user_factors.csv')\n",
    "#X_aggregates = pd.read_csv('./data/aggregates.csv')\n",
    "#X_embeddings['user_id'] = X_aggregates['user_id']\n",
    "X = df_public\n",
    "X = X.merge(X_embeddings, on=\"user_id\", how='inner')\n",
    "# X = X.merge(X_factors, on=\"user_id\", how='left').fillna(0)\n",
    "# X = X.merge(X_aggregates, on=\"user_id\", how='inner')\n",
    "\n",
    "del X['user_id'], X['age'], X['is_male']"
   ]
  },
  {
   "cell_type": "code",
   "execution_count": 32,
   "id": "441113dd-0ec3-4b2b-8983-eb193d961d44",
   "metadata": {
    "execution": {
     "iopub.execute_input": "2023-03-21T15:13:36.469663Z",
     "iopub.status.busy": "2023-03-21T15:13:36.469318Z",
     "iopub.status.idle": "2023-03-21T15:13:36.501890Z",
     "shell.execute_reply": "2023-03-21T15:13:36.501373Z"
    }
   },
   "outputs": [
    {
     "data": {
      "text/html": [
       "<div>\n",
       "<style scoped>\n",
       "    .dataframe tbody tr th:only-of-type {\n",
       "        vertical-align: middle;\n",
       "    }\n",
       "\n",
       "    .dataframe tbody tr th {\n",
       "        vertical-align: top;\n",
       "    }\n",
       "\n",
       "    .dataframe thead th {\n",
       "        text-align: right;\n",
       "    }\n",
       "</style>\n",
       "<table border=\"1\" class=\"dataframe\">\n",
       "  <thead>\n",
       "    <tr style=\"text-align: right;\">\n",
       "      <th></th>\n",
       "      <th>embed_0</th>\n",
       "      <th>embed_1</th>\n",
       "      <th>embed_2</th>\n",
       "      <th>embed_3</th>\n",
       "      <th>embed_4</th>\n",
       "      <th>embed_5</th>\n",
       "      <th>embed_6</th>\n",
       "      <th>embed_7</th>\n",
       "      <th>embed_8</th>\n",
       "      <th>embed_9</th>\n",
       "      <th>...</th>\n",
       "      <th>embed_5186</th>\n",
       "      <th>embed_5187</th>\n",
       "      <th>embed_5188</th>\n",
       "      <th>embed_5189</th>\n",
       "      <th>embed_5190</th>\n",
       "      <th>embed_5191</th>\n",
       "      <th>embed_5192</th>\n",
       "      <th>embed_5193</th>\n",
       "      <th>embed_5194</th>\n",
       "      <th>embed_5195</th>\n",
       "    </tr>\n",
       "  </thead>\n",
       "  <tbody>\n",
       "    <tr>\n",
       "      <th>0</th>\n",
       "      <td>-0.401901</td>\n",
       "      <td>0.040664</td>\n",
       "      <td>0.356776</td>\n",
       "      <td>0.285869</td>\n",
       "      <td>0.179293</td>\n",
       "      <td>-0.948565</td>\n",
       "      <td>-0.072344</td>\n",
       "      <td>0.001979</td>\n",
       "      <td>0.843977</td>\n",
       "      <td>-0.848923</td>\n",
       "      <td>...</td>\n",
       "      <td>0.024881</td>\n",
       "      <td>0.055764</td>\n",
       "      <td>0.065482</td>\n",
       "      <td>0.037987</td>\n",
       "      <td>0.148053</td>\n",
       "      <td>0.053345</td>\n",
       "      <td>0.051573</td>\n",
       "      <td>0.076169</td>\n",
       "      <td>0.049984</td>\n",
       "      <td>0.614058</td>\n",
       "    </tr>\n",
       "    <tr>\n",
       "      <th>1</th>\n",
       "      <td>0.474354</td>\n",
       "      <td>-0.179691</td>\n",
       "      <td>0.626575</td>\n",
       "      <td>0.643749</td>\n",
       "      <td>0.260619</td>\n",
       "      <td>-0.987184</td>\n",
       "      <td>-0.930312</td>\n",
       "      <td>-0.312049</td>\n",
       "      <td>0.846960</td>\n",
       "      <td>0.464052</td>\n",
       "      <td>...</td>\n",
       "      <td>0.103082</td>\n",
       "      <td>0.140181</td>\n",
       "      <td>0.152320</td>\n",
       "      <td>0.108916</td>\n",
       "      <td>0.320273</td>\n",
       "      <td>0.132142</td>\n",
       "      <td>0.132284</td>\n",
       "      <td>0.170922</td>\n",
       "      <td>0.112164</td>\n",
       "      <td>1.403053</td>\n",
       "    </tr>\n",
       "    <tr>\n",
       "      <th>2</th>\n",
       "      <td>-0.047594</td>\n",
       "      <td>0.615767</td>\n",
       "      <td>0.133633</td>\n",
       "      <td>0.180548</td>\n",
       "      <td>0.123601</td>\n",
       "      <td>-0.906348</td>\n",
       "      <td>-0.844166</td>\n",
       "      <td>-0.203295</td>\n",
       "      <td>0.923673</td>\n",
       "      <td>-0.933795</td>\n",
       "      <td>...</td>\n",
       "      <td>0.034125</td>\n",
       "      <td>0.088067</td>\n",
       "      <td>0.081374</td>\n",
       "      <td>0.063938</td>\n",
       "      <td>0.205720</td>\n",
       "      <td>0.086780</td>\n",
       "      <td>0.081251</td>\n",
       "      <td>0.124125</td>\n",
       "      <td>0.081455</td>\n",
       "      <td>0.706681</td>\n",
       "    </tr>\n",
       "    <tr>\n",
       "      <th>3</th>\n",
       "      <td>-0.218762</td>\n",
       "      <td>0.770747</td>\n",
       "      <td>0.495254</td>\n",
       "      <td>0.243223</td>\n",
       "      <td>0.324211</td>\n",
       "      <td>-0.895869</td>\n",
       "      <td>-0.802742</td>\n",
       "      <td>0.087466</td>\n",
       "      <td>0.356542</td>\n",
       "      <td>-0.589794</td>\n",
       "      <td>...</td>\n",
       "      <td>0.031798</td>\n",
       "      <td>0.068010</td>\n",
       "      <td>0.057427</td>\n",
       "      <td>0.044040</td>\n",
       "      <td>0.168938</td>\n",
       "      <td>0.067471</td>\n",
       "      <td>0.060330</td>\n",
       "      <td>0.090984</td>\n",
       "      <td>0.059706</td>\n",
       "      <td>0.695565</td>\n",
       "    </tr>\n",
       "    <tr>\n",
       "      <th>4</th>\n",
       "      <td>-0.423964</td>\n",
       "      <td>0.479870</td>\n",
       "      <td>0.396467</td>\n",
       "      <td>0.151632</td>\n",
       "      <td>0.021593</td>\n",
       "      <td>-0.981009</td>\n",
       "      <td>-0.880682</td>\n",
       "      <td>0.058634</td>\n",
       "      <td>0.866789</td>\n",
       "      <td>-0.739819</td>\n",
       "      <td>...</td>\n",
       "      <td>0.060639</td>\n",
       "      <td>0.120209</td>\n",
       "      <td>0.109767</td>\n",
       "      <td>0.097740</td>\n",
       "      <td>0.274920</td>\n",
       "      <td>0.119586</td>\n",
       "      <td>0.113837</td>\n",
       "      <td>0.157969</td>\n",
       "      <td>0.103664</td>\n",
       "      <td>1.063054</td>\n",
       "    </tr>\n",
       "  </tbody>\n",
       "</table>\n",
       "<p>5 rows × 5196 columns</p>\n",
       "</div>"
      ],
      "text/plain": [
       "    embed_0   embed_1   embed_2   embed_3   embed_4   embed_5   embed_6  \\\n",
       "0 -0.401901  0.040664  0.356776  0.285869  0.179293 -0.948565 -0.072344   \n",
       "1  0.474354 -0.179691  0.626575  0.643749  0.260619 -0.987184 -0.930312   \n",
       "2 -0.047594  0.615767  0.133633  0.180548  0.123601 -0.906348 -0.844166   \n",
       "3 -0.218762  0.770747  0.495254  0.243223  0.324211 -0.895869 -0.802742   \n",
       "4 -0.423964  0.479870  0.396467  0.151632  0.021593 -0.981009 -0.880682   \n",
       "\n",
       "    embed_7   embed_8   embed_9  ...  embed_5186  embed_5187  embed_5188  \\\n",
       "0  0.001979  0.843977 -0.848923  ...    0.024881    0.055764    0.065482   \n",
       "1 -0.312049  0.846960  0.464052  ...    0.103082    0.140181    0.152320   \n",
       "2 -0.203295  0.923673 -0.933795  ...    0.034125    0.088067    0.081374   \n",
       "3  0.087466  0.356542 -0.589794  ...    0.031798    0.068010    0.057427   \n",
       "4  0.058634  0.866789 -0.739819  ...    0.060639    0.120209    0.109767   \n",
       "\n",
       "   embed_5189  embed_5190  embed_5191  embed_5192  embed_5193  embed_5194  \\\n",
       "0    0.037987    0.148053    0.053345    0.051573    0.076169    0.049984   \n",
       "1    0.108916    0.320273    0.132142    0.132284    0.170922    0.112164   \n",
       "2    0.063938    0.205720    0.086780    0.081251    0.124125    0.081455   \n",
       "3    0.044040    0.168938    0.067471    0.060330    0.090984    0.059706   \n",
       "4    0.097740    0.274920    0.119586    0.113837    0.157969    0.103664   \n",
       "\n",
       "   embed_5195  \n",
       "0    0.614058  \n",
       "1    1.403053  \n",
       "2    0.706681  \n",
       "3    0.695565  \n",
       "4    1.063054  \n",
       "\n",
       "[5 rows x 5196 columns]"
      ]
     },
     "execution_count": 32,
     "metadata": {},
     "output_type": "execute_result"
    }
   ],
   "source": [
    "X.head()"
   ]
  },
  {
   "cell_type": "markdown",
   "id": "e1256856-3585-4b1d-ab90-68d7f2e74847",
   "metadata": {},
   "source": [
    "## Gender"
   ]
  },
  {
   "cell_type": "code",
   "execution_count": 33,
   "id": "5b64dc68-4186-4212-876e-6852ad69c28f",
   "metadata": {
    "execution": {
     "iopub.execute_input": "2023-03-21T15:13:36.507066Z",
     "iopub.status.busy": "2023-03-21T15:13:36.506759Z",
     "iopub.status.idle": "2023-03-21T15:13:36.510843Z",
     "shell.execute_reply": "2023-03-21T15:13:36.510354Z"
    }
   },
   "outputs": [
    {
     "data": {
      "text/plain": [
       "(270000, 5196)"
      ]
     },
     "execution_count": 33,
     "metadata": {},
     "output_type": "execute_result"
    }
   ],
   "source": [
    "X.shape"
   ]
  },
  {
   "cell_type": "code",
   "execution_count": 34,
   "id": "82263b0a-0d79-4a36-95e9-6369bc27f371",
   "metadata": {
    "execution": {
     "iopub.execute_input": "2023-03-21T15:13:36.516856Z",
     "iopub.status.busy": "2023-03-21T15:13:36.516529Z",
     "iopub.status.idle": "2023-03-21T15:13:36.519990Z",
     "shell.execute_reply": "2023-03-21T15:13:36.519298Z"
    }
   },
   "outputs": [],
   "source": [
    "cat_features = []#  ['region_name', 'city_name', 'cpe_manufacturer_name', 'cpe_model_name', 'cpe_type_cd', 'cpe_model_os_type', 'part_of_day', 'price']"
   ]
  },
  {
   "cell_type": "code",
   "execution_count": 35,
   "id": "f91510b6-e068-4b06-a703-ece8a251280e",
   "metadata": {
    "execution": {
     "iopub.execute_input": "2023-03-21T15:13:36.522931Z",
     "iopub.status.busy": "2023-03-21T15:13:36.522568Z",
     "iopub.status.idle": "2023-03-21T15:31:28.294775Z",
     "shell.execute_reply": "2023-03-21T15:31:28.293922Z"
    },
    "tags": []
   },
   "outputs": [
    {
     "name": "stdout",
     "output_type": "stream",
     "text": [
      "Learning rate set to 0.060789\n",
      "0:\tlearn: 0.6665186\ttest: 0.6662811\tbest: 0.6662811 (0)\ttotal: 266ms\tremaining: 22m 7s\n",
      "100:\tlearn: 0.4622145\ttest: 0.4606331\tbest: 0.4606331 (100)\ttotal: 20.4s\tremaining: 16m 30s\n",
      "200:\tlearn: 0.4533938\ttest: 0.4544491\tbest: 0.4544491 (200)\ttotal: 41.4s\tremaining: 16m 28s\n",
      "300:\tlearn: 0.4452482\ttest: 0.4501575\tbest: 0.4501575 (300)\ttotal: 1m 2s\tremaining: 16m 12s\n",
      "400:\tlearn: 0.4385246\ttest: 0.4475111\tbest: 0.4475111 (400)\ttotal: 1m 23s\tremaining: 15m 54s\n",
      "500:\tlearn: 0.4326498\ttest: 0.4455714\tbest: 0.4455714 (500)\ttotal: 1m 44s\tremaining: 15m 34s\n",
      "600:\tlearn: 0.4274111\ttest: 0.4444478\tbest: 0.4444478 (600)\ttotal: 2m 4s\tremaining: 15m 12s\n",
      "700:\tlearn: 0.4225264\ttest: 0.4436871\tbest: 0.4436871 (700)\ttotal: 2m 25s\tremaining: 14m 53s\n",
      "800:\tlearn: 0.4178355\ttest: 0.4430454\tbest: 0.4430454 (800)\ttotal: 2m 47s\tremaining: 14m 36s\n",
      "900:\tlearn: 0.4133630\ttest: 0.4425543\tbest: 0.4425543 (900)\ttotal: 3m 8s\tremaining: 14m 16s\n",
      "1000:\tlearn: 0.4089374\ttest: 0.4420090\tbest: 0.4420090 (1000)\ttotal: 3m 29s\tremaining: 13m 56s\n",
      "1100:\tlearn: 0.4046067\ttest: 0.4415084\tbest: 0.4415084 (1100)\ttotal: 3m 50s\tremaining: 13m 37s\n",
      "1200:\tlearn: 0.4003982\ttest: 0.4413109\tbest: 0.4413109 (1200)\ttotal: 4m 12s\tremaining: 13m 17s\n",
      "1300:\tlearn: 0.3963618\ttest: 0.4410458\tbest: 0.4410458 (1300)\ttotal: 4m 33s\tremaining: 12m 56s\n",
      "1400:\tlearn: 0.3924092\ttest: 0.4407859\tbest: 0.4407859 (1400)\ttotal: 4m 54s\tremaining: 12m 35s\n",
      "1500:\tlearn: 0.3885341\ttest: 0.4404190\tbest: 0.4404190 (1500)\ttotal: 5m 15s\tremaining: 12m 14s\n",
      "1600:\tlearn: 0.3846296\ttest: 0.4402210\tbest: 0.4402210 (1600)\ttotal: 5m 35s\tremaining: 11m 52s\n",
      "1700:\tlearn: 0.3808012\ttest: 0.4398973\tbest: 0.4398973 (1700)\ttotal: 5m 56s\tremaining: 11m 32s\n",
      "1800:\tlearn: 0.3770121\ttest: 0.4397619\tbest: 0.4397619 (1800)\ttotal: 6m 18s\tremaining: 11m 11s\n",
      "1900:\tlearn: 0.3733253\ttest: 0.4397503\tbest: 0.4397503 (1900)\ttotal: 6m 39s\tremaining: 10m 51s\n",
      "2000:\tlearn: 0.3697237\ttest: 0.4396827\tbest: 0.4396827 (2000)\ttotal: 7m 1s\tremaining: 10m 31s\n",
      "2100:\tlearn: 0.3661666\ttest: 0.4395267\tbest: 0.4395267 (2100)\ttotal: 7m 22s\tremaining: 10m 10s\n",
      "2200:\tlearn: 0.3626481\ttest: 0.4394786\tbest: 0.4394786 (2200)\ttotal: 7m 43s\tremaining: 9m 49s\n",
      "2300:\tlearn: 0.3592989\ttest: 0.4394491\tbest: 0.4394491 (2300)\ttotal: 8m 4s\tremaining: 9m 28s\n",
      "2400:\tlearn: 0.3559351\ttest: 0.4394023\tbest: 0.4394023 (2400)\ttotal: 8m 25s\tremaining: 9m 7s\n",
      "2500:\tlearn: 0.3526493\ttest: 0.4393708\tbest: 0.4393708 (2500)\ttotal: 8m 46s\tremaining: 8m 46s\n",
      "2600:\tlearn: 0.3493062\ttest: 0.4394281\tbest: 0.4393708 (2500)\ttotal: 9m 8s\tremaining: 8m 25s\n",
      "2700:\tlearn: 0.3459700\ttest: 0.4393807\tbest: 0.4393708 (2500)\ttotal: 9m 29s\tremaining: 8m 4s\n",
      "2800:\tlearn: 0.3427194\ttest: 0.4394339\tbest: 0.4393708 (2500)\ttotal: 9m 51s\tremaining: 7m 44s\n",
      "2900:\tlearn: 0.3394418\ttest: 0.4393142\tbest: 0.4393142 (2900)\ttotal: 10m 13s\tremaining: 7m 23s\n",
      "3000:\tlearn: 0.3362829\ttest: 0.4394726\tbest: 0.4393142 (2900)\ttotal: 10m 34s\tremaining: 7m 2s\n",
      "3100:\tlearn: 0.3331004\ttest: 0.4393696\tbest: 0.4393142 (2900)\ttotal: 10m 54s\tremaining: 6m 41s\n",
      "3200:\tlearn: 0.3300036\ttest: 0.4393733\tbest: 0.4393142 (2900)\ttotal: 11m 16s\tremaining: 6m 19s\n",
      "3300:\tlearn: 0.3269617\ttest: 0.4393343\tbest: 0.4393142 (2900)\ttotal: 11m 37s\tremaining: 5m 58s\n",
      "3400:\tlearn: 0.3239814\ttest: 0.4391314\tbest: 0.4391314 (3400)\ttotal: 11m 58s\tremaining: 5m 38s\n",
      "3500:\tlearn: 0.3210322\ttest: 0.4392481\tbest: 0.4391314 (3400)\ttotal: 12m 20s\tremaining: 5m 17s\n",
      "3600:\tlearn: 0.3180423\ttest: 0.4393948\tbest: 0.4391314 (3400)\ttotal: 12m 42s\tremaining: 4m 56s\n",
      "3700:\tlearn: 0.3151456\ttest: 0.4392343\tbest: 0.4391314 (3400)\ttotal: 13m 3s\tremaining: 4m 34s\n",
      "3800:\tlearn: 0.3122810\ttest: 0.4393012\tbest: 0.4391314 (3400)\ttotal: 13m 23s\tremaining: 4m 13s\n",
      "3900:\tlearn: 0.3094310\ttest: 0.4393545\tbest: 0.4391314 (3400)\ttotal: 13m 45s\tremaining: 3m 52s\n",
      "4000:\tlearn: 0.3066096\ttest: 0.4393951\tbest: 0.4391314 (3400)\ttotal: 14m 6s\tremaining: 3m 31s\n",
      "4100:\tlearn: 0.3038333\ttest: 0.4393992\tbest: 0.4391314 (3400)\ttotal: 14m 27s\tremaining: 3m 10s\n",
      "4200:\tlearn: 0.3011431\ttest: 0.4392738\tbest: 0.4391314 (3400)\ttotal: 14m 48s\tremaining: 2m 48s\n",
      "4300:\tlearn: 0.2984073\ttest: 0.4393859\tbest: 0.4391314 (3400)\ttotal: 15m 10s\tremaining: 2m 27s\n",
      "4400:\tlearn: 0.2957275\ttest: 0.4392719\tbest: 0.4391314 (3400)\ttotal: 15m 30s\tremaining: 2m 6s\n",
      "4500:\tlearn: 0.2930813\ttest: 0.4393442\tbest: 0.4391314 (3400)\ttotal: 15m 51s\tremaining: 1m 45s\n",
      "4600:\tlearn: 0.2905089\ttest: 0.4393625\tbest: 0.4391314 (3400)\ttotal: 16m 12s\tremaining: 1m 24s\n",
      "4700:\tlearn: 0.2879190\ttest: 0.4394567\tbest: 0.4391314 (3400)\ttotal: 16m 33s\tremaining: 1m 3s\n",
      "4800:\tlearn: 0.2853573\ttest: 0.4394280\tbest: 0.4391314 (3400)\ttotal: 16m 55s\tremaining: 42.1s\n",
      "4900:\tlearn: 0.2828002\ttest: 0.4394549\tbest: 0.4391314 (3400)\ttotal: 17m 16s\tremaining: 20.9s\n",
      "4999:\tlearn: 0.2803265\ttest: 0.4394974\tbest: 0.4391314 (3400)\ttotal: 17m 37s\tremaining: 0us\n",
      "\n",
      "bestTest = 0.4391314025\n",
      "bestIteration = 3400\n",
      "\n",
      "Shrink model to first 3401 iterations.\n"
     ]
    },
    {
     "data": {
      "text/plain": [
       "<catboost.core.CatBoostClassifier at 0x7f1734c6e040>"
      ]
     },
     "execution_count": 35,
     "metadata": {},
     "output_type": "execute_result"
    }
   ],
   "source": [
    "# %%time\n",
    "\n",
    "from catboost import CatBoostClassifier, metrics\n",
    "from sklearn.model_selection import train_test_split\n",
    "from sklearn.metrics import roc_auc_score\n",
    "not_na_gender = (y_gender != 'NA') & (y_gender != None)\n",
    "x_train, x_test_gender, y_train, y_test_gender = train_test_split(X[not_na_gender], y_gender[not_na_gender], test_size = 0.1, random_state = 42)\n",
    "\n",
    "clf_gender = CatBoostClassifier(\n",
    "    iterations=5000,\n",
    "    custom_metric=[metrics.AUC()],\n",
    "    use_best_model=True,\n",
    "    random_seed=42)\n",
    "clf_gender.fit(x_train, y_train, metric_period=100, eval_set=(x_test_gender, y_test_gender))"
   ]
  },
  {
   "cell_type": "code",
   "execution_count": 36,
   "id": "36e9073f-a2e5-4380-b3b6-7afbb95503e7",
   "metadata": {
    "execution": {
     "iopub.execute_input": "2023-03-21T15:31:28.298162Z",
     "iopub.status.busy": "2023-03-21T15:31:28.297877Z",
     "iopub.status.idle": "2023-03-21T15:31:28.499754Z",
     "shell.execute_reply": "2023-03-21T15:31:28.498949Z"
    }
   },
   "outputs": [
    {
     "name": "stdout",
     "output_type": "stream",
     "text": [
      "GINI по полу 0.755\n"
     ]
    }
   ],
   "source": [
    "print(f'GINI по полу {2 * roc_auc_score(y_test_gender, clf_gender.predict_proba(x_test_gender)[:,1]) - 1:2.3f}')"
   ]
  },
  {
   "cell_type": "markdown",
   "id": "b6f90007-39ca-413f-bb25-4fb6c4567417",
   "metadata": {},
   "source": [
    "# Age"
   ]
  },
  {
   "cell_type": "code",
   "execution_count": 37,
   "id": "37c4697a-1ad9-4b11-904a-5d2cae5c0945",
   "metadata": {
    "execution": {
     "iopub.execute_input": "2023-03-21T15:31:28.503808Z",
     "iopub.status.busy": "2023-03-21T15:31:28.503515Z",
     "iopub.status.idle": "2023-03-21T17:13:44.634323Z",
     "shell.execute_reply": "2023-03-21T17:13:44.632944Z"
    }
   },
   "outputs": [
    {
     "name": "stdout",
     "output_type": "stream",
     "text": [
      "Learning rate set to 0.065168\n",
      "0:\tlearn: 1.8791325\ttest: 1.8782257\tbest: 1.8782257 (0)\ttotal: 1.9s\tremaining: 2h 38m 35s\n",
      "100:\tlearn: 1.2883887\ttest: 1.2852628\tbest: 1.2852628 (100)\ttotal: 2m 18s\tremaining: 1h 51m 57s\n",
      "200:\tlearn: 1.2646798\ttest: 1.2681450\tbest: 1.2681450 (200)\ttotal: 4m 26s\tremaining: 1h 46m 2s\n",
      "300:\tlearn: 1.2468173\ttest: 1.2577821\tbest: 1.2577821 (300)\ttotal: 6m 26s\tremaining: 1h 40m 35s\n",
      "400:\tlearn: 1.2338263\ttest: 1.2521672\tbest: 1.2521672 (400)\ttotal: 8m 29s\tremaining: 1h 37m 20s\n",
      "500:\tlearn: 1.2223616\ttest: 1.2483838\tbest: 1.2483838 (500)\ttotal: 10m 26s\tremaining: 1h 33m 46s\n",
      "600:\tlearn: 1.2121243\ttest: 1.2454129\tbest: 1.2454129 (600)\ttotal: 12m 24s\tremaining: 1h 30m 51s\n",
      "700:\tlearn: 1.2028210\ttest: 1.2435612\tbest: 1.2435612 (700)\ttotal: 14m 22s\tremaining: 1h 28m 6s\n",
      "800:\tlearn: 1.1938839\ttest: 1.2420133\tbest: 1.2420133 (800)\ttotal: 16m 20s\tremaining: 1h 25m 37s\n",
      "900:\tlearn: 1.1853099\ttest: 1.2409321\tbest: 1.2409321 (900)\ttotal: 18m 20s\tremaining: 1h 23m 24s\n",
      "1000:\tlearn: 1.1766594\ttest: 1.2399603\tbest: 1.2399603 (1000)\ttotal: 20m 23s\tremaining: 1h 21m 28s\n",
      "1100:\tlearn: 1.1684931\ttest: 1.2389602\tbest: 1.2389602 (1100)\ttotal: 22m 26s\tremaining: 1h 19m 27s\n",
      "1200:\tlearn: 1.1607109\ttest: 1.2383932\tbest: 1.2383932 (1200)\ttotal: 24m 27s\tremaining: 1h 17m 22s\n",
      "1300:\tlearn: 1.1531466\ttest: 1.2377139\tbest: 1.2377139 (1300)\ttotal: 26m 28s\tremaining: 1h 15m 17s\n",
      "1400:\tlearn: 1.1457654\ttest: 1.2369486\tbest: 1.2369486 (1400)\ttotal: 28m 28s\tremaining: 1h 13m 7s\n",
      "1500:\tlearn: 1.1381486\ttest: 1.2361112\tbest: 1.2361112 (1500)\ttotal: 30m 30s\tremaining: 1h 11m 7s\n",
      "1600:\tlearn: 1.1308647\ttest: 1.2354660\tbest: 1.2354660 (1600)\ttotal: 32m 33s\tremaining: 1h 9m 7s\n",
      "1700:\tlearn: 1.1236803\ttest: 1.2349512\tbest: 1.2349512 (1700)\ttotal: 34m 37s\tremaining: 1h 7m 8s\n",
      "1800:\tlearn: 1.1165157\ttest: 1.2345800\tbest: 1.2345800 (1800)\ttotal: 36m 43s\tremaining: 1h 5m 13s\n",
      "1900:\tlearn: 1.1096879\ttest: 1.2341058\tbest: 1.2341058 (1900)\ttotal: 38m 45s\tremaining: 1h 3m 11s\n",
      "2000:\tlearn: 1.1026921\ttest: 1.2339523\tbest: 1.2339523 (2000)\ttotal: 40m 51s\tremaining: 1h 1m 14s\n",
      "2100:\tlearn: 1.0959363\ttest: 1.2335163\tbest: 1.2335163 (2100)\ttotal: 42m 50s\tremaining: 59m 7s\n",
      "2200:\tlearn: 1.0891215\ttest: 1.2332065\tbest: 1.2332065 (2200)\ttotal: 44m 53s\tremaining: 57m 5s\n",
      "2300:\tlearn: 1.0826514\ttest: 1.2330055\tbest: 1.2330055 (2300)\ttotal: 46m 56s\tremaining: 55m 3s\n",
      "2400:\tlearn: 1.0759928\ttest: 1.2327842\tbest: 1.2327842 (2400)\ttotal: 48m 58s\tremaining: 53m\n",
      "2500:\tlearn: 1.0695100\ttest: 1.2323488\tbest: 1.2323488 (2500)\ttotal: 51m 1s\tremaining: 50m 58s\n",
      "2600:\tlearn: 1.0630974\ttest: 1.2320560\tbest: 1.2320560 (2600)\ttotal: 53m 4s\tremaining: 48m 56s\n",
      "2700:\tlearn: 1.0570276\ttest: 1.2319573\tbest: 1.2319573 (2700)\ttotal: 55m 5s\tremaining: 46m 53s\n",
      "2800:\tlearn: 1.0508839\ttest: 1.2315648\tbest: 1.2315648 (2800)\ttotal: 57m 9s\tremaining: 44m 52s\n",
      "2900:\tlearn: 1.0447043\ttest: 1.2314481\tbest: 1.2314481 (2900)\ttotal: 59m 12s\tremaining: 42m 50s\n",
      "3000:\tlearn: 1.0384149\ttest: 1.2312820\tbest: 1.2312820 (3000)\ttotal: 1h 1m 15s\tremaining: 40m 48s\n",
      "3100:\tlearn: 1.0324277\ttest: 1.2311231\tbest: 1.2311231 (3100)\ttotal: 1h 3m 16s\tremaining: 38m 45s\n",
      "3200:\tlearn: 1.0267529\ttest: 1.2310487\tbest: 1.2310487 (3200)\ttotal: 1h 5m 19s\tremaining: 36m 42s\n",
      "3300:\tlearn: 1.0207326\ttest: 1.2308767\tbest: 1.2308767 (3300)\ttotal: 1h 7m 23s\tremaining: 34m 41s\n",
      "3400:\tlearn: 1.0147800\ttest: 1.2309402\tbest: 1.2308767 (3300)\ttotal: 1h 9m 27s\tremaining: 32m 39s\n",
      "3500:\tlearn: 1.0088854\ttest: 1.2311759\tbest: 1.2308767 (3300)\ttotal: 1h 11m 30s\tremaining: 30m 37s\n",
      "3600:\tlearn: 1.0032066\ttest: 1.2309059\tbest: 1.2308767 (3300)\ttotal: 1h 13m 33s\tremaining: 28m 34s\n",
      "3700:\tlearn: 0.9974996\ttest: 1.2307831\tbest: 1.2307831 (3700)\ttotal: 1h 15m 35s\tremaining: 26m 31s\n",
      "3800:\tlearn: 0.9916645\ttest: 1.2307387\tbest: 1.2307387 (3800)\ttotal: 1h 17m 37s\tremaining: 24m 29s\n",
      "3900:\tlearn: 0.9858418\ttest: 1.2307714\tbest: 1.2307387 (3800)\ttotal: 1h 19m 39s\tremaining: 22m 26s\n",
      "4000:\tlearn: 0.9803852\ttest: 1.2307208\tbest: 1.2307208 (4000)\ttotal: 1h 21m 41s\tremaining: 20m 23s\n",
      "4100:\tlearn: 0.9746549\ttest: 1.2308484\tbest: 1.2307208 (4000)\ttotal: 1h 23m 45s\tremaining: 18m 21s\n",
      "4200:\tlearn: 0.9691525\ttest: 1.2306604\tbest: 1.2306604 (4200)\ttotal: 1h 25m 47s\tremaining: 16m 18s\n",
      "4300:\tlearn: 0.9636384\ttest: 1.2306081\tbest: 1.2306081 (4300)\ttotal: 1h 27m 49s\tremaining: 14m 16s\n",
      "4400:\tlearn: 0.9582269\ttest: 1.2305103\tbest: 1.2305103 (4400)\ttotal: 1h 29m 52s\tremaining: 12m 13s\n",
      "4500:\tlearn: 0.9529592\ttest: 1.2304753\tbest: 1.2304753 (4500)\ttotal: 1h 31m 54s\tremaining: 10m 11s\n",
      "4600:\tlearn: 0.9476922\ttest: 1.2305754\tbest: 1.2304753 (4500)\ttotal: 1h 33m 53s\tremaining: 8m 8s\n",
      "4700:\tlearn: 0.9423632\ttest: 1.2305662\tbest: 1.2304753 (4500)\ttotal: 1h 35m 54s\tremaining: 6m 6s\n",
      "4800:\tlearn: 0.9370771\ttest: 1.2303640\tbest: 1.2303640 (4800)\ttotal: 1h 37m 57s\tremaining: 4m 3s\n",
      "4900:\tlearn: 0.9318655\ttest: 1.2303277\tbest: 1.2303277 (4900)\ttotal: 1h 39m 59s\tremaining: 2m 1s\n",
      "4999:\tlearn: 0.9267765\ttest: 1.2305365\tbest: 1.2303277 (4900)\ttotal: 1h 42m\tremaining: 0us\n",
      "\n",
      "bestTest = 1.230327669\n",
      "bestIteration = 4900\n",
      "\n",
      "Shrink model to first 4901 iterations.\n",
      "CPU times: user 2d 18h 18min 3s, sys: 6min 57s, total: 2d 18h 25min\n",
      "Wall time: 1h 42min 16s\n"
     ]
    },
    {
     "data": {
      "text/plain": [
       "<catboost.core.CatBoostClassifier at 0x7f1734881580>"
      ]
     },
     "execution_count": 37,
     "metadata": {},
     "output_type": "execute_result"
    }
   ],
   "source": [
    "%%time\n",
    "\n",
    "from sklearn.metrics import classification_report\n",
    "\n",
    "not_na_age = ~np.isnan(y_age)\n",
    "x_train, x_test_age, y_train, y_test_age = train_test_split(X[not_na_age], y_age[not_na_age], test_size = 0.1, random_state = 42)\n",
    "\n",
    "clf_age = CatBoostClassifier(iterations=5000,\n",
    "    custom_metric=[metrics.Accuracy()],\n",
    "    use_best_model=True,\n",
    "    random_seed=42)\n",
    "clf_age.fit(x_train, y_train, metric_period=100, eval_set=(x_test_age, y_test_age))"
   ]
  },
  {
   "cell_type": "code",
   "execution_count": 38,
   "id": "d63be1d4-15a0-4c0a-9c5a-5d836a7a24ee",
   "metadata": {
    "execution": {
     "iopub.execute_input": "2023-03-21T17:13:44.641811Z",
     "iopub.status.busy": "2023-03-21T17:13:44.641520Z",
     "iopub.status.idle": "2023-03-21T17:13:44.885041Z",
     "shell.execute_reply": "2023-03-21T17:13:44.883979Z"
    }
   },
   "outputs": [
    {
     "name": "stdout",
     "output_type": "stream",
     "text": [
      "              precision    recall  f1-score   support\n",
      "\n",
      "         <18       1.00      0.01      0.02       109\n",
      "       18-25       0.55      0.42      0.48      3238\n",
      "       25-34       0.53      0.64      0.58      8863\n",
      "       35-44       0.44      0.51      0.47      7773\n",
      "       45-54       0.39      0.28      0.33      4218\n",
      "       55-65       0.41      0.28      0.33      2254\n",
      "         65+       0.33      0.02      0.04       545\n",
      "\n",
      "    accuracy                           0.48     27000\n",
      "   macro avg       0.52      0.31      0.32     27000\n",
      "weighted avg       0.47      0.48      0.46     27000\n",
      "\n"
     ]
    }
   ],
   "source": [
    "print(classification_report(y_test_age, clf_age.predict(x_test_age), \\\n",
    "                            target_names = ['<18', '18-25','25-34', '35-44', '45-54', '55-65', '65+']))"
   ]
  },
  {
   "cell_type": "code",
   "execution_count": 39,
   "id": "e2de0fad-0751-4e50-9459-008092a75423",
   "metadata": {
    "execution": {
     "iopub.execute_input": "2023-03-21T17:13:44.889419Z",
     "iopub.status.busy": "2023-03-21T17:13:44.888967Z",
     "iopub.status.idle": "2023-03-21T17:13:44.895732Z",
     "shell.execute_reply": "2023-03-21T17:13:44.894915Z"
    }
   },
   "outputs": [
    {
     "data": {
      "text/plain": [
       "1.7"
      ]
     },
     "execution_count": 39,
     "metadata": {},
     "output_type": "execute_result"
    }
   ],
   "source": [
    "0.760 + 2*0.47"
   ]
  },
  {
   "cell_type": "markdown",
   "id": "0d03b407-5f0c-4f68-8b46-058b219b9062",
   "metadata": {},
   "source": [
    "# Score submit "
   ]
  },
  {
   "cell_type": "markdown",
   "id": "5bdd8d06",
   "metadata": {},
   "source": [
    "(2 * f1_weighted(по 6 возрастным бакетам) + gini)"
   ]
  },
  {
   "cell_type": "code",
   "execution_count": 40,
   "id": "be52f120-770b-4c49-882e-506f0a373785",
   "metadata": {
    "execution": {
     "iopub.execute_input": "2023-03-21T17:13:44.898959Z",
     "iopub.status.busy": "2023-03-21T17:13:44.898602Z",
     "iopub.status.idle": "2023-03-21T17:14:02.883842Z",
     "shell.execute_reply": "2023-03-21T17:14:02.883027Z"
    }
   },
   "outputs": [
    {
     "name": "stdout",
     "output_type": "stream",
     "text": [
      "CPU times: user 13 s, sys: 5.03 s, total: 18 s\n",
      "Wall time: 18 s\n"
     ]
    }
   ],
   "source": [
    "%%time\n",
    "import pyarrow.parquet as pq\n",
    "\n",
    "df_submit = pq.read_table('data/submit_2.pqt').to_pandas().sort_values(by='user_id')\n",
    "\n",
    "X_embeddings=df_embeds\n",
    "# X_embeddings = pd.read_csv('./data/coles_256.csv')\n",
    "#X_factors = pd.read_csv('./data/user_factors.csv')\n",
    "#X_aggregates = pd.read_csv('./data/aggregates.csv')\n",
    "X_submit = df_submit.merge(X_embeddings, on=\"user_id\", how='left')\n",
    "#X_submit = X_submit.merge(X_factors, on=\"user_id\", how='left')\n",
    "#X_submit = X_submit.merge(X_aggregates, on=\"user_id\", how='inner')"
   ]
  },
  {
   "cell_type": "code",
   "execution_count": 41,
   "id": "e40e4b33-59c1-41e5-9baa-c8a4594901e7",
   "metadata": {
    "execution": {
     "iopub.execute_input": "2023-03-21T17:14:02.888483Z",
     "iopub.status.busy": "2023-03-21T17:14:02.888178Z",
     "iopub.status.idle": "2023-03-21T17:14:02.917271Z",
     "shell.execute_reply": "2023-03-21T17:14:02.916581Z"
    }
   },
   "outputs": [
    {
     "data": {
      "text/plain": [
       "True"
      ]
     },
     "execution_count": 41,
     "metadata": {},
     "output_type": "execute_result"
    }
   ],
   "source": [
    "list(X_submit['user_id']) == list(df_submit['user_id'])"
   ]
  },
  {
   "cell_type": "code",
   "execution_count": 42,
   "id": "ffde4d06-0fa6-4db0-a73c-a0f7dc7c52dc",
   "metadata": {
    "execution": {
     "iopub.execute_input": "2023-03-21T17:14:02.922471Z",
     "iopub.status.busy": "2023-03-21T17:14:02.922192Z",
     "iopub.status.idle": "2023-03-21T17:14:02.925969Z",
     "shell.execute_reply": "2023-03-21T17:14:02.925403Z"
    }
   },
   "outputs": [],
   "source": [
    "del X_submit['user_id']"
   ]
  },
  {
   "cell_type": "code",
   "execution_count": 43,
   "id": "cf8b15f7-4351-49cb-acf1-4ba708b94365",
   "metadata": {
    "execution": {
     "iopub.execute_input": "2023-03-21T17:14:02.928795Z",
     "iopub.status.busy": "2023-03-21T17:14:02.928487Z",
     "iopub.status.idle": "2023-03-21T17:14:04.024734Z",
     "shell.execute_reply": "2023-03-21T17:14:04.024141Z"
    }
   },
   "outputs": [
    {
     "data": {
      "text/html": [
       "<div>\n",
       "<style scoped>\n",
       "    .dataframe tbody tr th:only-of-type {\n",
       "        vertical-align: middle;\n",
       "    }\n",
       "\n",
       "    .dataframe tbody tr th {\n",
       "        vertical-align: top;\n",
       "    }\n",
       "\n",
       "    .dataframe thead th {\n",
       "        text-align: right;\n",
       "    }\n",
       "</style>\n",
       "<table border=\"1\" class=\"dataframe\">\n",
       "  <thead>\n",
       "    <tr style=\"text-align: right;\">\n",
       "      <th></th>\n",
       "      <th>user_id</th>\n",
       "      <th>age</th>\n",
       "      <th>is_male</th>\n",
       "    </tr>\n",
       "  </thead>\n",
       "  <tbody>\n",
       "    <tr>\n",
       "      <th>0</th>\n",
       "      <td>6</td>\n",
       "      <td>2</td>\n",
       "      <td>0.263546</td>\n",
       "    </tr>\n",
       "    <tr>\n",
       "      <th>7</th>\n",
       "      <td>7</td>\n",
       "      <td>2</td>\n",
       "      <td>0.874413</td>\n",
       "    </tr>\n",
       "    <tr>\n",
       "      <th>9</th>\n",
       "      <td>9</td>\n",
       "      <td>2</td>\n",
       "      <td>0.136029</td>\n",
       "    </tr>\n",
       "    <tr>\n",
       "      <th>10</th>\n",
       "      <td>10</td>\n",
       "      <td>3</td>\n",
       "      <td>0.009366</td>\n",
       "    </tr>\n",
       "    <tr>\n",
       "      <th>4</th>\n",
       "      <td>11</td>\n",
       "      <td>5</td>\n",
       "      <td>0.927592</td>\n",
       "    </tr>\n",
       "  </tbody>\n",
       "</table>\n",
       "</div>"
      ],
      "text/plain": [
       "    user_id  age   is_male\n",
       "0         6    2  0.263546\n",
       "7         7    2  0.874413\n",
       "9         9    2  0.136029\n",
       "10       10    3  0.009366\n",
       "4        11    5  0.927592"
      ]
     },
     "execution_count": 43,
     "metadata": {},
     "output_type": "execute_result"
    }
   ],
   "source": [
    "df_submit['age'] = clf_age.predict(X_submit)\n",
    "df_submit['is_male'] = clf_gender.predict_proba(X_submit)[:, 1]\n",
    "df_submit.head()"
   ]
  },
  {
   "cell_type": "code",
   "execution_count": 44,
   "id": "2ee204ff-f3d5-4f35-a62c-ada032448cb2",
   "metadata": {
    "execution": {
     "iopub.execute_input": "2023-03-21T17:14:04.028341Z",
     "iopub.status.busy": "2023-03-21T17:14:04.028066Z",
     "iopub.status.idle": "2023-03-21T17:14:04.286116Z",
     "shell.execute_reply": "2023-03-21T17:14:04.285357Z"
    }
   },
   "outputs": [],
   "source": [
    "df_submit.to_csv(f'data/submission_url_host_features_early_stop.csv', index = False)"
   ]
  },
  {
   "cell_type": "code",
   "execution_count": null,
   "id": "b28375a1-88bb-4c50-976a-e8f5bc507737",
   "metadata": {},
   "outputs": [],
   "source": []
  }
 ],
 "metadata": {
  "interpreter": {
   "hash": "2f728aae16f986a2c144cf3883f774129e3492dba91e5b19b6a631d31adb75e4"
  },
  "kernelspec": {
   "display_name": "ptls",
   "language": "python",
   "name": "python3"
  },
  "language_info": {
   "codemirror_mode": {
    "name": "ipython",
    "version": 3
   },
   "file_extension": ".py",
   "mimetype": "text/x-python",
   "name": "python",
   "nbconvert_exporter": "python",
   "pygments_lexer": "ipython3",
   "version": "3.8.16"
  }
 },
 "nbformat": 4,
 "nbformat_minor": 5
}
