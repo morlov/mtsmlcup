{
 "cells": [
  {
   "cell_type": "code",
   "execution_count": 12,
   "id": "7af790b9-f4cc-40e0-a28a-7f11fc403b83",
   "metadata": {},
   "outputs": [],
   "source": [
    "import os\n",
    "\n",
    "import torch\n",
    "import numpy as np\n",
    "import torch.nn.functional as F\n",
    "import pandas as pd\n",
    "import pytorch_lightning as pl\n",
    "\n",
    "from pathlib import Path\n",
    "\n",
    "from transformers import AutoTokenizer, AutoModel"
   ]
  },
  {
   "cell_type": "code",
   "execution_count": 13,
   "id": "ba34cc8a",
   "metadata": {},
   "outputs": [
    {
     "name": "stderr",
     "output_type": "stream",
     "text": [
      "Global seed set to 42\n"
     ]
    },
    {
     "data": {
      "text/plain": [
       "42"
      ]
     },
     "execution_count": 13,
     "metadata": {},
     "output_type": "execute_result"
    }
   ],
   "source": [
    "os.environ['TOKENIZERS_PARALLELISM'] = 'false'\n",
    "GPU = 0\n",
    "data_path = Path('data')\n",
    "pl.seed_everything(42)"
   ]
  },
  {
   "cell_type": "markdown",
   "id": "761dcb24-aacd-44ce-9f4c-7f5b9f4dee6c",
   "metadata": {},
   "source": [
    "# Prepare data"
   ]
  },
  {
   "cell_type": "code",
   "execution_count": 14,
   "id": "3c3f885e-c636-4b72-bcb8-26004390cf0d",
   "metadata": {},
   "outputs": [],
   "source": [
    "df = pd.read_parquet(data_path / 'competition_data_final_pqt', engine='pyarrow', columns=['user_id', 'url_host', 'request_cnt', 'part_of_day', 'date'])"
   ]
  },
  {
   "cell_type": "markdown",
   "id": "c833f917",
   "metadata": {},
   "source": [
    "### Impute price, create date+day_part event_time"
   ]
  },
  {
   "cell_type": "code",
   "execution_count": 15,
   "id": "e9975eee",
   "metadata": {},
   "outputs": [],
   "source": [
    "df['event_time'] = pd.to_datetime(df[\"date\"]).values.astype('datetime64[h]').astype('int64')\n",
    "df['event_time'] += df['part_of_day'].map({'morning': 0, 'day': 6, 'evening': 12, 'night': 18})\n",
    "df = df.drop(columns=['date'])"
   ]
  },
  {
   "cell_type": "markdown",
   "id": "f8e4b371-15ee-4a28-bc5c-f86a0d8cf9da",
   "metadata": {},
   "source": [
    "# Create transactional data"
   ]
  },
  {
   "cell_type": "code",
   "execution_count": 16,
   "id": "e3e4c9d2",
   "metadata": {},
   "outputs": [],
   "source": [
    "def embed(texts, batch_size=10000):\n",
    "    tokenizer = AutoTokenizer.from_pretrained('muhtasham/olm-bert-tiny-december-2022')\n",
    "    bert = AutoModel.from_pretrained('muhtasham/olm-bert-tiny-december-2022').cuda(GPU)\n",
    "    res = dict()\n",
    "    for i in range(0, len(texts), batch_size):\n",
    "        b_texts = texts[i:i+batch_size]\n",
    "        tokens = tokenizer(b_texts, padding=True, truncation=True, return_tensors='pt')\n",
    "        with torch.no_grad():\n",
    "            out = bert(**{k: v.to(bert.device) for k, v in tokens.items()})\n",
    "    \n",
    "        embeddings = F.normalize(out.last_hidden_state[:, 0, :]).cpu()\n",
    "        res.update(dict(zip(b_texts, embeddings)))\n",
    "    return res"
   ]
  },
  {
   "cell_type": "code",
   "execution_count": 17,
   "id": "b7b8881d",
   "metadata": {},
   "outputs": [
    {
     "name": "stderr",
     "output_type": "stream",
     "text": [
      "Some weights of the model checkpoint at AustinCarthy/BERT_generated_url_classification_v1_12_1_23 were not used when initializing BertModel: ['classifier.weight', 'classifier.bias']\n",
      "- This IS expected if you are initializing BertModel from the checkpoint of a model trained on another task or with another architecture (e.g. initializing a BertForSequenceClassification model from a BertForPreTraining model).\n",
      "- This IS NOT expected if you are initializing BertModel from the checkpoint of a model that you expect to be exactly identical (initializing a BertForSequenceClassification model from a BertForSequenceClassification model).\n"
     ]
    }
   ],
   "source": [
    "embs = embed(df['url_host'].unique().tolist())"
   ]
  },
  {
   "cell_type": "code",
   "execution_count": null,
   "id": "f84c2052",
   "metadata": {},
   "outputs": [],
   "source": [
    "df['url_host'] = df['url_host'].apply(lambda url_host: embs[url_host])"
   ]
  },
  {
   "cell_type": "code",
   "execution_count": 7,
   "id": "2c390b2d-ec9d-45e1-9e1c-96e0ddbb84c0",
   "metadata": {},
   "outputs": [],
   "source": [
    "from ptls.preprocessing import PandasDataPreprocessor\n",
    "from ptls.data_load.datasets import MemoryMapDataset\n",
    "\n",
    "preprocessor = PandasDataPreprocessor(\n",
    "    col_id='user_id',\n",
    "    col_event_time='event_time',\n",
    "    event_time_transformation='none',\n",
    "    cols_category=['part_of_day'],\n",
    "    #cols_category=['price', 'region_name', 'city_name', 'cpe_manufacturer_name', 'cpe_model_name', 'url_host', 'cpe_type_cd', 'cpe_model_os_type', 'part_of_day'],\n",
    "    cols_numerical=['request_cnt'],\n",
    "    cols_identity=['url_host'],\n",
    "    return_records=True,\n",
    ")"
   ]
  },
  {
   "cell_type": "code",
   "execution_count": 8,
   "id": "2cd71e2b",
   "metadata": {},
   "outputs": [],
   "source": [
    "dataset = MemoryMapDataset(data=preprocessor.fit_transform(df))"
   ]
  },
  {
   "cell_type": "code",
   "execution_count": 9,
   "id": "74cdf01e",
   "metadata": {},
   "outputs": [],
   "source": [
    "TRAIN_SIZE = int(len(dataset) * 0.9)\n",
    "VAL_SIZE = len(dataset) - TRAIN_SIZE\n",
    "\n",
    "train, val = torch.utils.data.random_split(dataset, [TRAIN_SIZE, VAL_SIZE])"
   ]
  },
  {
   "cell_type": "code",
   "execution_count": 10,
   "id": "02191dec",
   "metadata": {},
   "outputs": [],
   "source": [
    "from ptls.data_load.datasets.parquet_dataset import ParquetDataset, ParquetFiles\n",
    "from ptls.frames.coles.coles_dataset import ColesDataset\n",
    "from ptls.frames.coles.split_strategy import SampleSlices\n",
    "from ptls.frames import PtlsDataModule\n",
    "\n",
    "train_data = ColesDataset(\n",
    "    data=train,\n",
    "    splitter=SampleSlices(split_count=5, cnt_min=20, cnt_max=200)\n",
    ")\n",
    "\n",
    "val_data = ColesDataset(\n",
    "    data=val,\n",
    "    splitter=SampleSlices(split_count=5, cnt_min=20, cnt_max=200)\n",
    ")\n",
    "\n",
    "dl = PtlsDataModule(\n",
    "    train_data=train_data, train_num_workers=16, train_batch_size=256, \n",
    "    valid_data=val_data, valid_num_workers=16, valid_batch_size=256\n",
    ")"
   ]
  },
  {
   "cell_type": "markdown",
   "id": "7f223e8d-dfde-4c4b-9c71-6cf3c744c0a9",
   "metadata": {},
   "source": [
    "## Train COLES"
   ]
  },
  {
   "cell_type": "markdown",
   "id": "82cc0f45-6d4c-4026-ab33-bb58d1c5a5c7",
   "metadata": {},
   "source": [
    "### Model definition"
   ]
  },
  {
   "cell_type": "code",
   "execution_count": 11,
   "id": "a491a9e2-62f6-41f8-9010-0cec157dbded",
   "metadata": {},
   "outputs": [],
   "source": [
    "import torch\n",
    "import pytorch_lightning as pl\n",
    "from functools import partial\n",
    "from ptls.nn import TrxEncoder, RnnSeqEncoder\n",
    "from ptls.frames.coles import CoLESModule\n",
    "from ptls.nn.trx_encoder.encoders import IdentityEncoder\n",
    "\n",
    "trx_encoder_params = dict(\n",
    "    embeddings_noise=0.003,\n",
    "    numeric_values={'request_cnt': 'identity'\n",
    "    },\n",
    "    embeddings={\n",
    "        #'price': {'in': 10, 'out': 2},\n",
    "        #'region_name': {'in': 81, 'out': 4},\n",
    "        #'city_name': {'in': 985, 'out': 16},\n",
    "        #'cpe_manufacturer_name': {'in': 37, 'out': 4},\n",
    "        #'cpe_model_name': {'in': 599, 'out': 16},\n",
    "        #'cpe_type_cd': {'in': 4, 'out': 2}, \n",
    "        #'cpe_model_os_type': {'in': 3, 'out': 2}, \n",
    "        #'part_of_day': {'in': 4, 'out': 1},\n",
    "    },\n",
    "    custom_embeddings={\n",
    "        'url_host': IdentityEncoder(128)\n",
    "    }\n",
    ")\n",
    "\n",
    "\n",
    "seq_encoder = RnnSeqEncoder(\n",
    "    trx_encoder=TrxEncoder(**trx_encoder_params),\n",
    "    hidden_size=512,\n",
    "    type='gru',\n",
    ")\n",
    "\n",
    "model = CoLESModule(\n",
    "    seq_encoder=seq_encoder,\n",
    "    optimizer_partial=partial(torch.optim.Adam, lr=0.001),\n",
    "    lr_scheduler_partial=partial(torch.optim.lr_scheduler.StepLR, step_size=10, gamma=0.9),\n",
    ")"
   ]
  },
  {
   "cell_type": "markdown",
   "id": "faaf7ed2-9782-4439-8a86-32808d4fff8d",
   "metadata": {},
   "source": [
    "### Trainer"
   ]
  },
  {
   "cell_type": "code",
   "execution_count": 49,
   "id": "0c2b3322-7818-44a6-adf8-a9322a315b68",
   "metadata": {},
   "outputs": [
    {
     "name": "stderr",
     "output_type": "stream",
     "text": [
      "GPU available: True, used: True\n",
      "TPU available: False, using: 0 TPU cores\n",
      "IPU available: False, using: 0 IPUs\n",
      "HPU available: False, using: 0 HPUs\n"
     ]
    }
   ],
   "source": [
    "import torch\n",
    "import pytorch_lightning as pl\n",
    "from pytorch_lightning.loggers import TensorBoardLogger\n",
    "from pytorch_lightning.callbacks import ModelCheckpoint\n",
    "\n",
    "\n",
    "trainer = pl.Trainer(\n",
    "    max_epochs=200,\n",
    "    limit_val_batches=100,\n",
    "    gpus=[GPU],\n",
    "    enable_progress_bar=False,\n",
    "    logger=TensorBoardLogger('lightning_logs', name='url_host_embeddigns_tsne'),\n",
    "    callbacks=[ModelCheckpoint(\n",
    "        monitor='recall_top_k',\n",
    "        dirpath='model/',\n",
    "        filename='{epoch}-{recall_top_k:.2f}',\n",
    "        every_n_epochs=100,\n",
    "    )]\n",
    ")"
   ]
  },
  {
   "cell_type": "code",
   "execution_count": 50,
   "id": "70e8672a-97cd-4cb9-9ad4-ad3d1e88d69f",
   "metadata": {
    "tags": []
   },
   "outputs": [
    {
     "name": "stderr",
     "output_type": "stream",
     "text": [
      "LOCAL_RANK: 0 - CUDA_VISIBLE_DEVICES: [0,1,2,3]\n",
      "\n",
      "  | Name               | Type            | Params\n",
      "-------------------------------------------------------\n",
      "0 | _loss              | ContrastiveLoss | 0     \n",
      "1 | _seq_encoder       | RnnSeqEncoder   | 988 K \n",
      "2 | _validation_metric | BatchRecallTopK | 0     \n",
      "3 | _head              | Head            | 0     \n",
      "-------------------------------------------------------\n",
      "988 K     Trainable params\n",
      "0         Non-trainable params\n",
      "988 K     Total params\n",
      "3.954     Total estimated model params size (MB)\n"
     ]
    },
    {
     "name": "stdout",
     "output_type": "stream",
     "text": [
      "logger.version = 8\n"
     ]
    },
    {
     "name": "stderr",
     "output_type": "stream",
     "text": [
      "/home/jovyan/.local/share/virtualenvs/ptls-experiments-Xgdpvmv-/lib/python3.8/site-packages/pytorch_lightning/callbacks/model_checkpoint.py:378: UserWarning: `ModelCheckpoint(monitor='recall_top_k')` could not find the monitored key in the returned metrics: ['loss', 'seq_len', 'epoch', 'step']. HINT: Did you call `log('recall_top_k', value)` in the `LightningModule`?\n",
      "  warning_cache.warn(m)\n"
     ]
    },
    {
     "name": "stdout",
     "output_type": "stream",
     "text": [
      "{'loss': tensor(275.7948, device='cuda:0'), 'seq_len': tensor(84.1578, device='cuda:0')}\n"
     ]
    }
   ],
   "source": [
    "print(f'logger.version = {trainer.logger.version}')\n",
    "trainer.fit(model, dl)\n",
    "print(trainer.logged_metrics)"
   ]
  },
  {
   "cell_type": "code",
   "execution_count": 16,
   "id": "64b7e9fd-84df-4f10-9a0e-8c08dc8ca610",
   "metadata": {},
   "outputs": [],
   "source": [
    "torch.save(model.state_dict(), \"model/coles-emb-text-001-stepLR-09-tsne.pt\")"
   ]
  },
  {
   "cell_type": "markdown",
   "id": "8ea85365-d6fa-4c81-8ab3-5f4cf98b9438",
   "metadata": {},
   "source": [
    "# Inference"
   ]
  },
  {
   "cell_type": "code",
   "execution_count": 12,
   "id": "81c0849f-92b6-4a6e-9b22-656cf8344397",
   "metadata": {},
   "outputs": [
    {
     "data": {
      "text/plain": [
       "<All keys matched successfully>"
      ]
     },
     "execution_count": 12,
     "metadata": {},
     "output_type": "execute_result"
    }
   ],
   "source": [
    "model.load_state_dict(torch.load(\"model/coles-emb-text-001-stepLR-09-tsne.pt\"))"
   ]
  },
  {
   "cell_type": "code",
   "execution_count": 13,
   "id": "17f4fcc9",
   "metadata": {},
   "outputs": [
    {
     "name": "stderr",
     "output_type": "stream",
     "text": [
      "6490it [17:14,  6.27it/s]\n",
      "6490it [06:27, 16.75it/s]\n"
     ]
    }
   ],
   "source": [
    "import tqdm\n",
    "from ptls.data_load.datasets import inference_data_loader\n",
    "import numpy as np\n",
    "\n",
    "def pooling_inference(model, dl, device=f'cuda:{GPU}'):\n",
    "    \n",
    "    model.to(device)\n",
    "    X = []\n",
    "    for batch in tqdm.tqdm(dl):\n",
    "        with torch.no_grad():\n",
    "            x = model.seq_encoder.trx_encoder(batch.to(device)).payload\n",
    "            out_max = torch.max(x, dim=1)[0]\n",
    "            out_min = torch.min(x, dim=1)[0]\n",
    "            out_mean = torch.mean(x, dim=1)\n",
    "            out_std = torch.std(x, dim=1)\n",
    "            features = torch.cat([out_max, out_min, out_mean, out_std], dim=1)      \n",
    "            X += [features]\n",
    "    return X\n",
    "\n",
    "def embed_inference(model, dl, device=f'cuda:{GPU}'):\n",
    "    \n",
    "    model.to(device)\n",
    "    X = []\n",
    "    for batch in tqdm.tqdm(dl):\n",
    "        with torch.no_grad():\n",
    "            features = model.seq_encoder(batch.to(device))\n",
    "            X += [features]\n",
    "    return X\n",
    "\n",
    "dl = inference_data_loader(dataset.processed_data, num_workers=0, batch_size=64)\n",
    "X_coles = torch.vstack(embed_inference(model, dl, )).cpu().numpy()\n",
    "X_pool = torch.vstack(pooling_inference(model, dl, )).cpu().numpy()\n",
    "X_embeds = np.concatenate([X_coles, X_pool], axis=1)\n",
    "\n",
    "\n",
    "df_embeds = pd.DataFrame(X_embeds, columns=[f\"embed_{e}\" for e in range(X_embeds.shape[1])])\n",
    "df_embeds['user_id'] = [rec['user_id'] for rec in dataset.processed_data]\n",
    "df_embeds.to_csv('./data/coles_512.csv', index=False)"
   ]
  },
  {
   "cell_type": "markdown",
   "id": "b34f2f38-af86-417a-904f-4c235e6fa30b",
   "metadata": {},
   "source": [
    "## Downstream"
   ]
  },
  {
   "cell_type": "markdown",
   "id": "406befe5-d0ab-4a53-bea1-5fe8b56d3dfc",
   "metadata": {},
   "source": [
    "## Targets"
   ]
  },
  {
   "cell_type": "code",
   "execution_count": 14,
   "id": "249e125e-b4f2-458a-8a83-5a897b667e5f",
   "metadata": {},
   "outputs": [
    {
     "name": "stdout",
     "output_type": "stream",
     "text": [
      "CPU times: user 221 ms, sys: 34 ms, total: 255 ms\n",
      "Wall time: 243 ms\n"
     ]
    }
   ],
   "source": [
    "%%time\n",
    "\n",
    "import bisect\n",
    "import numpy as np\n",
    "import pyarrow.parquet as pq\n",
    "\n",
    "df_public = pq.read_table('data/public_train.pqt').to_pandas().sort_values(by='user_id')\n",
    "\n",
    "def age_bucket(x):\n",
    "    return bisect.bisect_left([18,25,35,45,55,65], x)\n",
    "\n",
    "y_age = df_public['age']\n",
    "y_age = np.array(list(map(age_bucket, y_age)))\n",
    "y_gender = np.array(df_public['is_male'])"
   ]
  },
  {
   "cell_type": "markdown",
   "id": "0c4b4ffa-8d7c-4a10-8263-a1ff7194ba7d",
   "metadata": {},
   "source": [
    "## Add features"
   ]
  },
  {
   "cell_type": "code",
   "execution_count": 15,
   "id": "61125509-7636-441d-902f-654a36f2c7ea",
   "metadata": {},
   "outputs": [],
   "source": [
    "X_embeddings=df_embeds\n",
    "# X_embeddings = pd.read_csv('./data/coles_512.csv')\n",
    "#X_factors = pd.read_csv('./data/user_factors.csv')\n",
    "#X_aggregates = pd.read_csv('./data/aggregates.csv')\n",
    "X = df_public\n",
    "X = X.merge(X_embeddings, on=\"user_id\", how='inner')\n",
    "# X = X.merge(X_factors, on=\"user_id\", how='left').fillna(0)\n",
    "# X = X.merge(X_aggregates, on=\"user_id\", how='inner')\n",
    "\n",
    "del X['user_id'], X['age'], X['is_male']"
   ]
  },
  {
   "cell_type": "code",
   "execution_count": 16,
   "id": "441113dd-0ec3-4b2b-8983-eb193d961d44",
   "metadata": {},
   "outputs": [
    {
     "data": {
      "text/html": [
       "<div>\n",
       "<style scoped>\n",
       "    .dataframe tbody tr th:only-of-type {\n",
       "        vertical-align: middle;\n",
       "    }\n",
       "\n",
       "    .dataframe tbody tr th {\n",
       "        vertical-align: top;\n",
       "    }\n",
       "\n",
       "    .dataframe thead th {\n",
       "        text-align: right;\n",
       "    }\n",
       "</style>\n",
       "<table border=\"1\" class=\"dataframe\">\n",
       "  <thead>\n",
       "    <tr style=\"text-align: right;\">\n",
       "      <th></th>\n",
       "      <th>embed_0</th>\n",
       "      <th>embed_1</th>\n",
       "      <th>embed_2</th>\n",
       "      <th>embed_3</th>\n",
       "      <th>embed_4</th>\n",
       "      <th>embed_5</th>\n",
       "      <th>embed_6</th>\n",
       "      <th>embed_7</th>\n",
       "      <th>embed_8</th>\n",
       "      <th>embed_9</th>\n",
       "      <th>...</th>\n",
       "      <th>embed_1018</th>\n",
       "      <th>embed_1019</th>\n",
       "      <th>embed_1020</th>\n",
       "      <th>embed_1021</th>\n",
       "      <th>embed_1022</th>\n",
       "      <th>embed_1023</th>\n",
       "      <th>embed_1024</th>\n",
       "      <th>embed_1025</th>\n",
       "      <th>embed_1026</th>\n",
       "      <th>embed_1027</th>\n",
       "    </tr>\n",
       "  </thead>\n",
       "  <tbody>\n",
       "    <tr>\n",
       "      <th>0</th>\n",
       "      <td>-0.787040</td>\n",
       "      <td>-0.457125</td>\n",
       "      <td>-0.017737</td>\n",
       "      <td>0.005416</td>\n",
       "      <td>-0.397249</td>\n",
       "      <td>0.067654</td>\n",
       "      <td>-0.325710</td>\n",
       "      <td>0.061905</td>\n",
       "      <td>0.060056</td>\n",
       "      <td>0.043753</td>\n",
       "      <td>...</td>\n",
       "      <td>0.076959</td>\n",
       "      <td>0.128632</td>\n",
       "      <td>0.062424</td>\n",
       "      <td>0.087590</td>\n",
       "      <td>0.137930</td>\n",
       "      <td>0.065165</td>\n",
       "      <td>0.053161</td>\n",
       "      <td>0.089808</td>\n",
       "      <td>0.119454</td>\n",
       "      <td>0.206273</td>\n",
       "    </tr>\n",
       "    <tr>\n",
       "      <th>1</th>\n",
       "      <td>-0.274681</td>\n",
       "      <td>0.160478</td>\n",
       "      <td>0.053800</td>\n",
       "      <td>0.011052</td>\n",
       "      <td>-0.136415</td>\n",
       "      <td>0.083284</td>\n",
       "      <td>-0.381442</td>\n",
       "      <td>0.067448</td>\n",
       "      <td>0.167852</td>\n",
       "      <td>-0.104430</td>\n",
       "      <td>...</td>\n",
       "      <td>0.180769</td>\n",
       "      <td>0.297384</td>\n",
       "      <td>0.131260</td>\n",
       "      <td>0.213208</td>\n",
       "      <td>0.297388</td>\n",
       "      <td>0.139177</td>\n",
       "      <td>0.113681</td>\n",
       "      <td>0.223502</td>\n",
       "      <td>0.251975</td>\n",
       "      <td>0.471310</td>\n",
       "    </tr>\n",
       "    <tr>\n",
       "      <th>2</th>\n",
       "      <td>-0.813374</td>\n",
       "      <td>0.218355</td>\n",
       "      <td>-0.022478</td>\n",
       "      <td>-0.005189</td>\n",
       "      <td>-0.261558</td>\n",
       "      <td>0.067715</td>\n",
       "      <td>-0.307461</td>\n",
       "      <td>-0.046547</td>\n",
       "      <td>0.101327</td>\n",
       "      <td>-0.144751</td>\n",
       "      <td>...</td>\n",
       "      <td>0.119493</td>\n",
       "      <td>0.209573</td>\n",
       "      <td>0.123451</td>\n",
       "      <td>0.160019</td>\n",
       "      <td>0.222549</td>\n",
       "      <td>0.090359</td>\n",
       "      <td>0.074468</td>\n",
       "      <td>0.179790</td>\n",
       "      <td>0.193492</td>\n",
       "      <td>0.237386</td>\n",
       "    </tr>\n",
       "    <tr>\n",
       "      <th>3</th>\n",
       "      <td>-0.968491</td>\n",
       "      <td>0.313913</td>\n",
       "      <td>-0.179472</td>\n",
       "      <td>0.002859</td>\n",
       "      <td>-0.235855</td>\n",
       "      <td>0.129345</td>\n",
       "      <td>-0.315666</td>\n",
       "      <td>0.007441</td>\n",
       "      <td>0.704675</td>\n",
       "      <td>-0.103729</td>\n",
       "      <td>...</td>\n",
       "      <td>0.092443</td>\n",
       "      <td>0.162889</td>\n",
       "      <td>0.095323</td>\n",
       "      <td>0.120299</td>\n",
       "      <td>0.162929</td>\n",
       "      <td>0.069529</td>\n",
       "      <td>0.052288</td>\n",
       "      <td>0.118071</td>\n",
       "      <td>0.133680</td>\n",
       "      <td>0.233652</td>\n",
       "    </tr>\n",
       "    <tr>\n",
       "      <th>4</th>\n",
       "      <td>-0.416571</td>\n",
       "      <td>0.221322</td>\n",
       "      <td>-0.171212</td>\n",
       "      <td>0.000957</td>\n",
       "      <td>-0.267172</td>\n",
       "      <td>0.175585</td>\n",
       "      <td>-0.342140</td>\n",
       "      <td>0.009744</td>\n",
       "      <td>0.124708</td>\n",
       "      <td>-0.250410</td>\n",
       "      <td>...</td>\n",
       "      <td>0.157901</td>\n",
       "      <td>0.287260</td>\n",
       "      <td>0.154480</td>\n",
       "      <td>0.221048</td>\n",
       "      <td>0.273447</td>\n",
       "      <td>0.130451</td>\n",
       "      <td>0.105877</td>\n",
       "      <td>0.217656</td>\n",
       "      <td>0.254213</td>\n",
       "      <td>0.357098</td>\n",
       "    </tr>\n",
       "  </tbody>\n",
       "</table>\n",
       "<p>5 rows × 1028 columns</p>\n",
       "</div>"
      ],
      "text/plain": [
       "    embed_0   embed_1   embed_2   embed_3   embed_4   embed_5   embed_6  \\\n",
       "0 -0.787040 -0.457125 -0.017737  0.005416 -0.397249  0.067654 -0.325710   \n",
       "1 -0.274681  0.160478  0.053800  0.011052 -0.136415  0.083284 -0.381442   \n",
       "2 -0.813374  0.218355 -0.022478 -0.005189 -0.261558  0.067715 -0.307461   \n",
       "3 -0.968491  0.313913 -0.179472  0.002859 -0.235855  0.129345 -0.315666   \n",
       "4 -0.416571  0.221322 -0.171212  0.000957 -0.267172  0.175585 -0.342140   \n",
       "\n",
       "    embed_7   embed_8   embed_9  ...  embed_1018  embed_1019  embed_1020  \\\n",
       "0  0.061905  0.060056  0.043753  ...    0.076959    0.128632    0.062424   \n",
       "1  0.067448  0.167852 -0.104430  ...    0.180769    0.297384    0.131260   \n",
       "2 -0.046547  0.101327 -0.144751  ...    0.119493    0.209573    0.123451   \n",
       "3  0.007441  0.704675 -0.103729  ...    0.092443    0.162889    0.095323   \n",
       "4  0.009744  0.124708 -0.250410  ...    0.157901    0.287260    0.154480   \n",
       "\n",
       "   embed_1021  embed_1022  embed_1023  embed_1024  embed_1025  embed_1026  \\\n",
       "0    0.087590    0.137930    0.065165    0.053161    0.089808    0.119454   \n",
       "1    0.213208    0.297388    0.139177    0.113681    0.223502    0.251975   \n",
       "2    0.160019    0.222549    0.090359    0.074468    0.179790    0.193492   \n",
       "3    0.120299    0.162929    0.069529    0.052288    0.118071    0.133680   \n",
       "4    0.221048    0.273447    0.130451    0.105877    0.217656    0.254213   \n",
       "\n",
       "   embed_1027  \n",
       "0    0.206273  \n",
       "1    0.471310  \n",
       "2    0.237386  \n",
       "3    0.233652  \n",
       "4    0.357098  \n",
       "\n",
       "[5 rows x 1028 columns]"
      ]
     },
     "execution_count": 16,
     "metadata": {},
     "output_type": "execute_result"
    }
   ],
   "source": [
    "X.head()"
   ]
  },
  {
   "cell_type": "markdown",
   "id": "e1256856-3585-4b1d-ab90-68d7f2e74847",
   "metadata": {},
   "source": [
    "## Gender"
   ]
  },
  {
   "cell_type": "code",
   "execution_count": 17,
   "id": "5b64dc68-4186-4212-876e-6852ad69c28f",
   "metadata": {},
   "outputs": [
    {
     "data": {
      "text/plain": [
       "(270000, 1028)"
      ]
     },
     "execution_count": 17,
     "metadata": {},
     "output_type": "execute_result"
    }
   ],
   "source": [
    "X.shape"
   ]
  },
  {
   "cell_type": "code",
   "execution_count": 18,
   "id": "82263b0a-0d79-4a36-95e9-6369bc27f371",
   "metadata": {},
   "outputs": [],
   "source": [
    "cat_features = []#  ['region_name', 'city_name', 'cpe_manufacturer_name', 'cpe_model_name', 'cpe_type_cd', 'cpe_model_os_type', 'part_of_day', 'price']"
   ]
  },
  {
   "cell_type": "code",
   "execution_count": 19,
   "id": "f91510b6-e068-4b06-a703-ece8a251280e",
   "metadata": {
    "tags": []
   },
   "outputs": [
    {
     "name": "stdout",
     "output_type": "stream",
     "text": [
      "Learning rate set to 0.060789\n",
      "0:\tlearn: 0.6721727\ttest: 0.6718698\tbest: 0.6718698 (0)\ttotal: 105ms\tremaining: 8m 45s\n",
      "100:\tlearn: 0.4991232\ttest: 0.4972384\tbest: 0.4972384 (100)\ttotal: 4.97s\tremaining: 4m 1s\n",
      "200:\tlearn: 0.4896866\ttest: 0.4905966\tbest: 0.4905966 (200)\ttotal: 9.42s\tremaining: 3m 44s\n",
      "300:\tlearn: 0.4811727\ttest: 0.4856596\tbest: 0.4856596 (300)\ttotal: 13.8s\tremaining: 3m 35s\n",
      "400:\tlearn: 0.4745008\ttest: 0.4828917\tbest: 0.4828917 (400)\ttotal: 18.4s\tremaining: 3m 31s\n",
      "500:\tlearn: 0.4686178\ttest: 0.4807002\tbest: 0.4807002 (500)\ttotal: 23.1s\tremaining: 3m 27s\n",
      "600:\tlearn: 0.4631824\ttest: 0.4791940\tbest: 0.4791940 (600)\ttotal: 27.8s\tremaining: 3m 23s\n",
      "700:\tlearn: 0.4581485\ttest: 0.4779488\tbest: 0.4779488 (700)\ttotal: 32.5s\tremaining: 3m 19s\n",
      "800:\tlearn: 0.4533999\ttest: 0.4769587\tbest: 0.4769587 (800)\ttotal: 37.2s\tremaining: 3m 15s\n",
      "900:\tlearn: 0.4489002\ttest: 0.4760786\tbest: 0.4760786 (900)\ttotal: 41.6s\tremaining: 3m 9s\n",
      "1000:\tlearn: 0.4445326\ttest: 0.4751830\tbest: 0.4751830 (1000)\ttotal: 46.1s\tremaining: 3m 4s\n",
      "1100:\tlearn: 0.4403244\ttest: 0.4746597\tbest: 0.4746597 (1100)\ttotal: 50.8s\tremaining: 2m 59s\n",
      "1200:\tlearn: 0.4362804\ttest: 0.4741798\tbest: 0.4741798 (1200)\ttotal: 55.1s\tremaining: 2m 54s\n",
      "1300:\tlearn: 0.4323790\ttest: 0.4737572\tbest: 0.4737572 (1300)\ttotal: 59.4s\tremaining: 2m 48s\n",
      "1400:\tlearn: 0.4284507\ttest: 0.4733134\tbest: 0.4733134 (1400)\ttotal: 1m 4s\tremaining: 2m 44s\n",
      "1500:\tlearn: 0.4246152\ttest: 0.4729831\tbest: 0.4729831 (1500)\ttotal: 1m 8s\tremaining: 2m 40s\n",
      "1600:\tlearn: 0.4208619\ttest: 0.4725208\tbest: 0.4725208 (1600)\ttotal: 1m 13s\tremaining: 2m 35s\n",
      "1700:\tlearn: 0.4171710\ttest: 0.4721964\tbest: 0.4721964 (1700)\ttotal: 1m 18s\tremaining: 2m 31s\n",
      "1800:\tlearn: 0.4136054\ttest: 0.4719726\tbest: 0.4719726 (1800)\ttotal: 1m 22s\tremaining: 2m 27s\n",
      "1900:\tlearn: 0.4099988\ttest: 0.4716388\tbest: 0.4716388 (1900)\ttotal: 1m 27s\tremaining: 2m 23s\n",
      "2000:\tlearn: 0.4065564\ttest: 0.4713903\tbest: 0.4713903 (2000)\ttotal: 1m 32s\tremaining: 2m 18s\n",
      "2100:\tlearn: 0.4030990\ttest: 0.4712370\tbest: 0.4712370 (2100)\ttotal: 1m 37s\tremaining: 2m 13s\n",
      "2200:\tlearn: 0.3997872\ttest: 0.4711202\tbest: 0.4711202 (2200)\ttotal: 1m 41s\tremaining: 2m 8s\n",
      "2300:\tlearn: 0.3964848\ttest: 0.4709271\tbest: 0.4709271 (2300)\ttotal: 1m 46s\tremaining: 2m 4s\n",
      "2400:\tlearn: 0.3931802\ttest: 0.4707301\tbest: 0.4707301 (2400)\ttotal: 1m 51s\tremaining: 2m\n",
      "2500:\tlearn: 0.3900306\ttest: 0.4705832\tbest: 0.4705832 (2500)\ttotal: 1m 56s\tremaining: 1m 56s\n",
      "2600:\tlearn: 0.3868742\ttest: 0.4705760\tbest: 0.4705760 (2600)\ttotal: 2m\tremaining: 1m 51s\n",
      "2700:\tlearn: 0.3837221\ttest: 0.4705101\tbest: 0.4705101 (2700)\ttotal: 2m 5s\tremaining: 1m 46s\n",
      "2800:\tlearn: 0.3806195\ttest: 0.4704713\tbest: 0.4704713 (2800)\ttotal: 2m 10s\tremaining: 1m 42s\n",
      "2900:\tlearn: 0.3776123\ttest: 0.4704272\tbest: 0.4704272 (2900)\ttotal: 2m 14s\tremaining: 1m 37s\n",
      "3000:\tlearn: 0.3745712\ttest: 0.4704753\tbest: 0.4704272 (2900)\ttotal: 2m 19s\tremaining: 1m 32s\n",
      "3100:\tlearn: 0.3716208\ttest: 0.4704415\tbest: 0.4704272 (2900)\ttotal: 2m 24s\tremaining: 1m 28s\n",
      "3200:\tlearn: 0.3686604\ttest: 0.4704108\tbest: 0.4704108 (3200)\ttotal: 2m 28s\tremaining: 1m 23s\n",
      "3300:\tlearn: 0.3657955\ttest: 0.4704601\tbest: 0.4704108 (3200)\ttotal: 2m 33s\tremaining: 1m 18s\n",
      "3400:\tlearn: 0.3629142\ttest: 0.4704658\tbest: 0.4704108 (3200)\ttotal: 2m 37s\tremaining: 1m 14s\n",
      "3500:\tlearn: 0.3600862\ttest: 0.4706098\tbest: 0.4704108 (3200)\ttotal: 2m 42s\tremaining: 1m 9s\n",
      "3600:\tlearn: 0.3572352\ttest: 0.4704917\tbest: 0.4704108 (3200)\ttotal: 2m 46s\tremaining: 1m 4s\n",
      "3700:\tlearn: 0.3545148\ttest: 0.4705789\tbest: 0.4704108 (3200)\ttotal: 2m 51s\tremaining: 1m\n",
      "3800:\tlearn: 0.3517473\ttest: 0.4703970\tbest: 0.4703970 (3800)\ttotal: 2m 56s\tremaining: 55.6s\n",
      "3900:\tlearn: 0.3490261\ttest: 0.4704217\tbest: 0.4703970 (3800)\ttotal: 3m\tremaining: 50.9s\n",
      "4000:\tlearn: 0.3463754\ttest: 0.4703946\tbest: 0.4703946 (4000)\ttotal: 3m 5s\tremaining: 46.3s\n",
      "4100:\tlearn: 0.3437492\ttest: 0.4703170\tbest: 0.4703170 (4100)\ttotal: 3m 10s\tremaining: 41.7s\n",
      "4200:\tlearn: 0.3410996\ttest: 0.4702303\tbest: 0.4702303 (4200)\ttotal: 3m 14s\tremaining: 37s\n",
      "4300:\tlearn: 0.3384836\ttest: 0.4701640\tbest: 0.4701640 (4300)\ttotal: 3m 19s\tremaining: 32.4s\n",
      "4400:\tlearn: 0.3359807\ttest: 0.4702399\tbest: 0.4701640 (4300)\ttotal: 3m 23s\tremaining: 27.8s\n",
      "4500:\tlearn: 0.3334356\ttest: 0.4702923\tbest: 0.4701640 (4300)\ttotal: 3m 28s\tremaining: 23.1s\n",
      "4600:\tlearn: 0.3309765\ttest: 0.4702503\tbest: 0.4701640 (4300)\ttotal: 3m 32s\tremaining: 18.5s\n",
      "4700:\tlearn: 0.3285105\ttest: 0.4702671\tbest: 0.4701640 (4300)\ttotal: 3m 37s\tremaining: 13.8s\n",
      "4800:\tlearn: 0.3261055\ttest: 0.4703339\tbest: 0.4701640 (4300)\ttotal: 3m 42s\tremaining: 9.24s\n",
      "4900:\tlearn: 0.3236514\ttest: 0.4703406\tbest: 0.4701640 (4300)\ttotal: 3m 47s\tremaining: 4.6s\n",
      "4999:\tlearn: 0.3212582\ttest: 0.4703081\tbest: 0.4701640 (4300)\ttotal: 3m 52s\tremaining: 0us\n",
      "\n",
      "bestTest = 0.4701640006\n",
      "bestIteration = 4300\n",
      "\n",
      "Shrink model to first 4301 iterations.\n"
     ]
    },
    {
     "data": {
      "text/plain": [
       "<catboost.core.CatBoostClassifier at 0x7f706823fee0>"
      ]
     },
     "execution_count": 19,
     "metadata": {},
     "output_type": "execute_result"
    }
   ],
   "source": [
    "# %%time\n",
    "\n",
    "from catboost import CatBoostClassifier, metrics\n",
    "from sklearn.model_selection import train_test_split\n",
    "from sklearn.metrics import roc_auc_score\n",
    "not_na_gender = (y_gender != 'NA') & (y_gender != None)\n",
    "x_train, x_test_gender, y_train, y_test_gender = train_test_split(X[not_na_gender], y_gender[not_na_gender], test_size = 0.1, random_state = 42)\n",
    "\n",
    "clf_gender = CatBoostClassifier(\n",
    "    iterations=5000,\n",
    "    custom_metric=[metrics.AUC()],\n",
    "    use_best_model=False,\n",
    "    random_seed=42)\n",
    "clf_gender.fit(x_train, y_train, metric_period=100, eval_set=(x_test_gender, y_test_gender), cat_features=cat_features)"
   ]
  },
  {
   "cell_type": "code",
   "execution_count": 20,
   "id": "36e9073f-a2e5-4380-b3b6-7afbb95503e7",
   "metadata": {},
   "outputs": [
    {
     "name": "stdout",
     "output_type": "stream",
     "text": [
      "GINI по полу 0.715\n"
     ]
    }
   ],
   "source": [
    "print(f'GINI по полу {2 * roc_auc_score(y_test_gender, clf_gender.predict_proba(x_test_gender)[:,1]) - 1:2.3f}')"
   ]
  },
  {
   "cell_type": "markdown",
   "id": "b6f90007-39ca-413f-bb25-4fb6c4567417",
   "metadata": {},
   "source": [
    "# Age"
   ]
  },
  {
   "cell_type": "code",
   "execution_count": 21,
   "id": "37c4697a-1ad9-4b11-904a-5d2cae5c0945",
   "metadata": {},
   "outputs": [
    {
     "name": "stdout",
     "output_type": "stream",
     "text": [
      "Learning rate set to 0.065168\n",
      "0:\tlearn: 1.8833790\ttest: 1.8824755\tbest: 1.8824755 (0)\ttotal: 366ms\tremaining: 30m 28s\n",
      "100:\tlearn: 1.3201749\ttest: 1.3154945\tbest: 1.3154945 (100)\ttotal: 28.7s\tremaining: 23m 11s\n",
      "200:\tlearn: 1.2943310\ttest: 1.2967469\tbest: 1.2967469 (200)\ttotal: 54.5s\tremaining: 21m 41s\n",
      "300:\tlearn: 1.2756351\ttest: 1.2859790\tbest: 1.2859790 (300)\ttotal: 1m 19s\tremaining: 20m 34s\n",
      "400:\tlearn: 1.2614717\ttest: 1.2800287\tbest: 1.2800287 (400)\ttotal: 1m 43s\tremaining: 19m 48s\n",
      "500:\tlearn: 1.2504714\ttest: 1.2762930\tbest: 1.2762930 (500)\ttotal: 2m 6s\tremaining: 18m 55s\n",
      "600:\tlearn: 1.2398501\ttest: 1.2741194\tbest: 1.2741194 (600)\ttotal: 2m 30s\tremaining: 18m 19s\n",
      "700:\tlearn: 1.2304381\ttest: 1.2719352\tbest: 1.2719352 (700)\ttotal: 2m 52s\tremaining: 17m 40s\n",
      "800:\tlearn: 1.2216216\ttest: 1.2701447\tbest: 1.2701447 (800)\ttotal: 3m 15s\tremaining: 17m 6s\n",
      "900:\tlearn: 1.2127716\ttest: 1.2684004\tbest: 1.2684004 (900)\ttotal: 3m 38s\tremaining: 16m 34s\n",
      "1000:\tlearn: 1.2044731\ttest: 1.2671780\tbest: 1.2671780 (1000)\ttotal: 4m 1s\tremaining: 16m 4s\n",
      "1100:\tlearn: 1.1962252\ttest: 1.2661382\tbest: 1.2661382 (1100)\ttotal: 4m 24s\tremaining: 15m 35s\n",
      "1200:\tlearn: 1.1883871\ttest: 1.2653414\tbest: 1.2653414 (1200)\ttotal: 4m 46s\tremaining: 15m 7s\n",
      "1300:\tlearn: 1.1806690\ttest: 1.2644230\tbest: 1.2644230 (1300)\ttotal: 5m 9s\tremaining: 14m 40s\n",
      "1400:\tlearn: 1.1733410\ttest: 1.2636325\tbest: 1.2636325 (1400)\ttotal: 5m 33s\tremaining: 14m 16s\n",
      "1500:\tlearn: 1.1658503\ttest: 1.2630359\tbest: 1.2630359 (1500)\ttotal: 5m 56s\tremaining: 13m 49s\n",
      "1600:\tlearn: 1.1586448\ttest: 1.2625200\tbest: 1.2625200 (1600)\ttotal: 6m 18s\tremaining: 13m 23s\n",
      "1700:\tlearn: 1.1516090\ttest: 1.2619304\tbest: 1.2619304 (1700)\ttotal: 6m 41s\tremaining: 12m 58s\n",
      "1800:\tlearn: 1.1447020\ttest: 1.2614510\tbest: 1.2614510 (1800)\ttotal: 7m 4s\tremaining: 12m 33s\n",
      "1900:\tlearn: 1.1377814\ttest: 1.2607709\tbest: 1.2607709 (1900)\ttotal: 7m 27s\tremaining: 12m 9s\n",
      "2000:\tlearn: 1.1312209\ttest: 1.2603946\tbest: 1.2603946 (2000)\ttotal: 7m 49s\tremaining: 11m 44s\n",
      "2100:\tlearn: 1.1246820\ttest: 1.2600719\tbest: 1.2600719 (2100)\ttotal: 8m 12s\tremaining: 11m 19s\n",
      "2200:\tlearn: 1.1183685\ttest: 1.2596988\tbest: 1.2596988 (2200)\ttotal: 8m 34s\tremaining: 10m 54s\n",
      "2300:\tlearn: 1.1118227\ttest: 1.2594980\tbest: 1.2594980 (2300)\ttotal: 8m 57s\tremaining: 10m 30s\n",
      "2400:\tlearn: 1.1053267\ttest: 1.2590315\tbest: 1.2590315 (2400)\ttotal: 9m 20s\tremaining: 10m 6s\n",
      "2500:\tlearn: 1.0990128\ttest: 1.2588715\tbest: 1.2588715 (2500)\ttotal: 9m 43s\tremaining: 9m 43s\n",
      "2600:\tlearn: 1.0925648\ttest: 1.2587778\tbest: 1.2587778 (2600)\ttotal: 10m 7s\tremaining: 9m 20s\n",
      "2700:\tlearn: 1.0864965\ttest: 1.2587724\tbest: 1.2587724 (2700)\ttotal: 10m 29s\tremaining: 8m 56s\n",
      "2800:\tlearn: 1.0803595\ttest: 1.2587379\tbest: 1.2587379 (2800)\ttotal: 10m 52s\tremaining: 8m 32s\n",
      "2900:\tlearn: 1.0743341\ttest: 1.2587091\tbest: 1.2587091 (2900)\ttotal: 11m 15s\tremaining: 8m 8s\n",
      "3000:\tlearn: 1.0683905\ttest: 1.2588437\tbest: 1.2587091 (2900)\ttotal: 11m 38s\tremaining: 7m 45s\n",
      "3100:\tlearn: 1.0626568\ttest: 1.2586844\tbest: 1.2586844 (3100)\ttotal: 12m 1s\tremaining: 7m 21s\n",
      "3200:\tlearn: 1.0567740\ttest: 1.2586596\tbest: 1.2586596 (3200)\ttotal: 12m 24s\tremaining: 6m 58s\n",
      "3300:\tlearn: 1.0509737\ttest: 1.2585505\tbest: 1.2585505 (3300)\ttotal: 12m 47s\tremaining: 6m 35s\n",
      "3400:\tlearn: 1.0453417\ttest: 1.2584753\tbest: 1.2584753 (3400)\ttotal: 13m 10s\tremaining: 6m 11s\n",
      "3500:\tlearn: 1.0397922\ttest: 1.2584283\tbest: 1.2584283 (3500)\ttotal: 13m 33s\tremaining: 5m 48s\n",
      "3600:\tlearn: 1.0338355\ttest: 1.2583713\tbest: 1.2583713 (3600)\ttotal: 13m 56s\tremaining: 5m 25s\n",
      "3700:\tlearn: 1.0282768\ttest: 1.2585754\tbest: 1.2583713 (3600)\ttotal: 14m 19s\tremaining: 5m 1s\n",
      "3800:\tlearn: 1.0228258\ttest: 1.2583781\tbest: 1.2583713 (3600)\ttotal: 14m 43s\tremaining: 4m 38s\n",
      "3900:\tlearn: 1.0172850\ttest: 1.2583862\tbest: 1.2583713 (3600)\ttotal: 15m 6s\tremaining: 4m 15s\n",
      "4000:\tlearn: 1.0115093\ttest: 1.2583800\tbest: 1.2583713 (3600)\ttotal: 15m 29s\tremaining: 3m 52s\n",
      "4100:\tlearn: 1.0060687\ttest: 1.2583963\tbest: 1.2583713 (3600)\ttotal: 15m 52s\tremaining: 3m 28s\n",
      "4200:\tlearn: 1.0005097\ttest: 1.2586412\tbest: 1.2583713 (3600)\ttotal: 16m 16s\tremaining: 3m 5s\n",
      "4300:\tlearn: 0.9952799\ttest: 1.2586299\tbest: 1.2583713 (3600)\ttotal: 16m 38s\tremaining: 2m 42s\n",
      "4400:\tlearn: 0.9898965\ttest: 1.2586592\tbest: 1.2583713 (3600)\ttotal: 17m 1s\tremaining: 2m 19s\n",
      "4500:\tlearn: 0.9846252\ttest: 1.2588334\tbest: 1.2583713 (3600)\ttotal: 17m 24s\tremaining: 1m 55s\n",
      "4600:\tlearn: 0.9792324\ttest: 1.2589016\tbest: 1.2583713 (3600)\ttotal: 17m 47s\tremaining: 1m 32s\n",
      "4700:\tlearn: 0.9740881\ttest: 1.2590829\tbest: 1.2583713 (3600)\ttotal: 18m 9s\tremaining: 1m 9s\n",
      "4800:\tlearn: 0.9688491\ttest: 1.2590464\tbest: 1.2583713 (3600)\ttotal: 18m 33s\tremaining: 46.1s\n",
      "4900:\tlearn: 0.9637049\ttest: 1.2593114\tbest: 1.2583713 (3600)\ttotal: 18m 56s\tremaining: 23s\n",
      "4999:\tlearn: 0.9587319\ttest: 1.2593295\tbest: 1.2583713 (3600)\ttotal: 19m 19s\tremaining: 0us\n",
      "\n",
      "bestTest = 1.258371304\n",
      "bestIteration = 3600\n",
      "\n",
      "Shrink model to first 3601 iterations.\n",
      "CPU times: user 11h 53min 35s, sys: 3min 59s, total: 11h 57min 34s\n",
      "Wall time: 19min 23s\n"
     ]
    },
    {
     "data": {
      "text/plain": [
       "<catboost.core.CatBoostClassifier at 0x7f7068211550>"
      ]
     },
     "execution_count": 21,
     "metadata": {},
     "output_type": "execute_result"
    }
   ],
   "source": [
    "%%time\n",
    "\n",
    "from sklearn.metrics import classification_report\n",
    "\n",
    "not_na_age = ~np.isnan(y_age)\n",
    "x_train, x_test_age, y_train, y_test_age = train_test_split(X[not_na_age], y_age[not_na_age], test_size = 0.1, random_state = 42)\n",
    "\n",
    "clf_age = CatBoostClassifier(iterations=5000,\n",
    "    custom_metric=[metrics.Accuracy()],\n",
    "    use_best_model=True,\n",
    "    random_seed=42)\n",
    "clf_age.fit(x_train, y_train, metric_period=100, eval_set=(x_test_age, y_test_age), cat_features=cat_features)"
   ]
  },
  {
   "cell_type": "code",
   "execution_count": 22,
   "id": "d63be1d4-15a0-4c0a-9c5a-5d836a7a24ee",
   "metadata": {},
   "outputs": [
    {
     "name": "stdout",
     "output_type": "stream",
     "text": [
      "              precision    recall  f1-score   support\n",
      "\n",
      "         <18       0.00      0.00      0.00       109\n",
      "       18-25       0.54      0.40      0.46      3238\n",
      "       25-34       0.51      0.64      0.57      8863\n",
      "       35-44       0.42      0.51      0.46      7773\n",
      "       45-54       0.39      0.26      0.31      4218\n",
      "       55-65       0.40      0.26      0.32      2254\n",
      "         65+       0.28      0.02      0.04       545\n",
      "\n",
      "    accuracy                           0.47     27000\n",
      "   macro avg       0.37      0.30      0.31     27000\n",
      "weighted avg       0.46      0.47      0.45     27000\n",
      "\n"
     ]
    }
   ],
   "source": [
    "print(classification_report(y_test_age, clf_age.predict(x_test_age), \\\n",
    "                            target_names = ['<18', '18-25','25-34', '35-44', '45-54', '55-65', '65+']))"
   ]
  },
  {
   "cell_type": "code",
   "execution_count": null,
   "id": "e2de0fad-0751-4e50-9459-008092a75423",
   "metadata": {},
   "outputs": [
    {
     "data": {
      "text/plain": [
       "1.7"
      ]
     },
     "execution_count": 55,
     "metadata": {},
     "output_type": "execute_result"
    }
   ],
   "source": [
    "0.760 + 2*0.47"
   ]
  },
  {
   "cell_type": "markdown",
   "id": "0d03b407-5f0c-4f68-8b46-058b219b9062",
   "metadata": {},
   "source": [
    "# Score submit "
   ]
  },
  {
   "cell_type": "markdown",
   "id": "95357169",
   "metadata": {},
   "source": [
    "(2 * f1_weighted(по 6 возрастным бакетам) + gini)"
   ]
  },
  {
   "cell_type": "code",
   "execution_count": 24,
   "id": "be52f120-770b-4c49-882e-506f0a373785",
   "metadata": {},
   "outputs": [
    {
     "name": "stdout",
     "output_type": "stream",
     "text": [
      "CPU times: user 2.63 s, sys: 1.08 s, total: 3.71 s\n",
      "Wall time: 3.71 s\n"
     ]
    }
   ],
   "source": [
    "%%time\n",
    "\n",
    "df_submit = pq.read_table('data/submit_2.pqt').to_pandas().sort_values(by='user_id')\n",
    "\n",
    "# X_embeddings = pd.read_csv('./data/coles_256.csv')\n",
    "#X_factors = pd.read_csv('./data/user_factors.csv')\n",
    "#X_aggregates = pd.read_csv('./data/aggregates.csv')\n",
    "X_submit = df_submit.merge(X_embeddings, on=\"user_id\", how='left')\n",
    "#X_submit = X_submit.merge(X_factors, on=\"user_id\", how='left')\n",
    "#X_submit = X_submit.merge(X_aggregates, on=\"user_id\", how='inner')"
   ]
  },
  {
   "cell_type": "code",
   "execution_count": 25,
   "id": "e40e4b33-59c1-41e5-9baa-c8a4594901e7",
   "metadata": {},
   "outputs": [
    {
     "data": {
      "text/plain": [
       "True"
      ]
     },
     "execution_count": 25,
     "metadata": {},
     "output_type": "execute_result"
    }
   ],
   "source": [
    "list(X_submit['user_id']) == list(df_submit['user_id'])"
   ]
  },
  {
   "cell_type": "code",
   "execution_count": 26,
   "id": "ffde4d06-0fa6-4db0-a73c-a0f7dc7c52dc",
   "metadata": {},
   "outputs": [],
   "source": [
    "del X_submit['user_id']"
   ]
  },
  {
   "cell_type": "code",
   "execution_count": 27,
   "id": "cf8b15f7-4351-49cb-acf1-4ba708b94365",
   "metadata": {},
   "outputs": [
    {
     "data": {
      "text/html": [
       "<div>\n",
       "<style scoped>\n",
       "    .dataframe tbody tr th:only-of-type {\n",
       "        vertical-align: middle;\n",
       "    }\n",
       "\n",
       "    .dataframe tbody tr th {\n",
       "        vertical-align: top;\n",
       "    }\n",
       "\n",
       "    .dataframe thead th {\n",
       "        text-align: right;\n",
       "    }\n",
       "</style>\n",
       "<table border=\"1\" class=\"dataframe\">\n",
       "  <thead>\n",
       "    <tr style=\"text-align: right;\">\n",
       "      <th></th>\n",
       "      <th>user_id</th>\n",
       "      <th>age</th>\n",
       "      <th>is_male</th>\n",
       "    </tr>\n",
       "  </thead>\n",
       "  <tbody>\n",
       "    <tr>\n",
       "      <th>0</th>\n",
       "      <td>6</td>\n",
       "      <td>2</td>\n",
       "      <td>0.194695</td>\n",
       "    </tr>\n",
       "    <tr>\n",
       "      <th>7</th>\n",
       "      <td>7</td>\n",
       "      <td>2</td>\n",
       "      <td>0.898154</td>\n",
       "    </tr>\n",
       "    <tr>\n",
       "      <th>9</th>\n",
       "      <td>9</td>\n",
       "      <td>2</td>\n",
       "      <td>0.126130</td>\n",
       "    </tr>\n",
       "    <tr>\n",
       "      <th>10</th>\n",
       "      <td>10</td>\n",
       "      <td>3</td>\n",
       "      <td>0.055880</td>\n",
       "    </tr>\n",
       "    <tr>\n",
       "      <th>4</th>\n",
       "      <td>11</td>\n",
       "      <td>5</td>\n",
       "      <td>0.678688</td>\n",
       "    </tr>\n",
       "  </tbody>\n",
       "</table>\n",
       "</div>"
      ],
      "text/plain": [
       "    user_id  age   is_male\n",
       "0         6    2  0.194695\n",
       "7         7    2  0.898154\n",
       "9         9    2  0.126130\n",
       "10       10    3  0.055880\n",
       "4        11    5  0.678688"
      ]
     },
     "execution_count": 27,
     "metadata": {},
     "output_type": "execute_result"
    }
   ],
   "source": [
    "df_submit['age'] = clf_age.predict(X_submit)\n",
    "df_submit['is_male'] = clf_gender.predict_proba(X_submit)[:, 1]\n",
    "df_submit.head()"
   ]
  },
  {
   "cell_type": "code",
   "execution_count": 29,
   "id": "2ee204ff-f3d5-4f35-a62c-ada032448cb2",
   "metadata": {},
   "outputs": [],
   "source": [
    "df_submit.to_csv(f'data/submission_xlarge_embed_tsne.csv', index = False)"
   ]
  },
  {
   "cell_type": "code",
   "execution_count": null,
   "id": "f05bca55",
   "metadata": {},
   "outputs": [],
   "source": []
  }
 ],
 "metadata": {
  "interpreter": {
   "hash": "2f728aae16f986a2c144cf3883f774129e3492dba91e5b19b6a631d31adb75e4"
  },
  "kernelspec": {
   "display_name": "ptls",
   "language": "python",
   "name": "python3"
  },
  "language_info": {
   "codemirror_mode": {
    "name": "ipython",
    "version": 3
   },
   "file_extension": ".py",
   "mimetype": "text/x-python",
   "name": "python",
   "nbconvert_exporter": "python",
   "pygments_lexer": "ipython3",
   "version": "3.8.16"
  }
 },
 "nbformat": 4,
 "nbformat_minor": 5
}
